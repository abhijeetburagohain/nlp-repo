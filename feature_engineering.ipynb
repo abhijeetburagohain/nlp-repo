{
 "cells": [
  {
   "cell_type": "code",
   "execution_count": 7,
   "metadata": {},
   "outputs": [],
   "source": [
    "import pandas as pd\n",
    "import numpy as np\n",
    "import ast\n",
    "from textblob import TextBlob\n",
    "\n",
    "import numpy as np\n",
    "from sklearn.metrics import f1_score\n",
    "from vaderSentiment.vaderSentiment import SentimentIntensityAnalyzer\n",
    "from tqdm import tqdm\n",
    "import matplotlib.pyplot as plt\n",
    "\n",
    "import textstat\n",
    "import spacy\n",
    "\n"
   ]
  },
  {
   "cell_type": "code",
   "execution_count": null,
   "metadata": {},
   "outputs": [],
   "source": [
    "# Load the spaCy English model\n",
    "nlp = spacy.load(\"en_core_web_sm\")"
   ]
  },
  {
   "cell_type": "code",
   "execution_count": 2,
   "metadata": {},
   "outputs": [],
   "source": [
    "data=pd.read_csv(\"cleaned_data.csv\")"
   ]
  },
  {
   "cell_type": "code",
   "execution_count": 3,
   "metadata": {},
   "outputs": [],
   "source": [
    "data['lemmatized_tokens'] = data['lemmatized_tokens'].apply(ast.literal_eval)"
   ]
  },
  {
   "cell_type": "code",
   "execution_count": 13,
   "metadata": {},
   "outputs": [],
   "source": [
    "def get_sentiment(rating):\n",
    "    if rating >= 4:\n",
    "        return 'positive'\n",
    "    elif rating == 3:\n",
    "        return 'neutral'\n",
    "    else:\n",
    "        return 'negative'\n",
    "\n",
    "data['sentiment'] = data['rating'].apply(get_sentiment)"
   ]
  },
  {
   "cell_type": "code",
   "execution_count": 17,
   "metadata": {},
   "outputs": [],
   "source": [
    "### Will do the feature engineering on the lemetized column \n",
    "# [always do feature engineering on the preprossesed column]"
   ]
  },
  {
   "cell_type": "code",
   "execution_count": 21,
   "metadata": {},
   "outputs": [],
   "source": [
    "### ADDING TOTAL char_count,word_count and average_word_length COLUMN TO THE DATASET\n",
    "\n",
    "# Total number of characters across all clean tokens\n",
    "data['char_count'] = data['lemmatized_tokens'].apply(lambda x: sum(len(word) for word in x))\n",
    "data['word_count'] = data['lemmatized_tokens'].apply(lambda x: len(x))\n",
    "data['avg_word_length'] = data['lemmatized_tokens'].apply(lambda x: (sum(len(word) for word in x) / len(x)) if len(x) > 0 else 0)\n",
    "\n",
    "# Total number of characters across all raw reviews\n",
    "# data['char_count'] = data['review'].apply(len)\n",
    "# data['word_count'] = data['review'].apply(lambda x: len(x.split()))\n",
    "# data['avg_word_length'] = data['review'].apply(lambda x: np.mean([len(w) for w in x.split()]))\n"
   ]
  },
  {
   "cell_type": "code",
   "execution_count": 8,
   "metadata": {},
   "outputs": [],
   "source": [
    "### GETTING THE SENTIMENT POLARITY AND THE SUBJECTIVITY\n",
    "## applied this to the raw review column because getting the real polarity and subjectivity form the raw column \n",
    "## is better then getting it from the raw columns.\n",
    "\n",
    "# applying textblob on review column\n",
    "data['sentiment_polarity'] = data['review'].apply(lambda x: TextBlob(x).sentiment.polarity)\n",
    "data['sentiment_subjectivity'] = data['review'].apply(lambda x: TextBlob(x).sentiment.subjectivity)\n",
    "\n",
    "# applying textblob on title column\n",
    "data['sentiment_polarity_2'] = data['title'].apply(lambda x: TextBlob(x).sentiment.polarity)\n",
    "data['sentiment_subjectivity_2'] = data['title'].apply(lambda x: TextBlob(x).sentiment.subjectivity)\n"
   ]
  },
  {
   "cell_type": "code",
   "execution_count": 10,
   "metadata": {},
   "outputs": [],
   "source": [
    "## VADER"
   ]
  },
  {
   "cell_type": "code",
   "execution_count": 16,
   "metadata": {},
   "outputs": [
    {
     "name": "stderr",
     "output_type": "stream",
     "text": [
      "Optimizing weight: 100%|██████████| 17/17 [00:02<00:00,  7.37it/s]"
     ]
    },
    {
     "name": "stdout",
     "output_type": "stream",
     "text": [
      "Best weight for Title: 0.65\n",
      "Best validation F1 Score: 0.8703\n"
     ]
    },
    {
     "name": "stderr",
     "output_type": "stream",
     "text": [
      "\n"
     ]
    }
   ],
   "source": [
    "## Finding the best weight for the combined column of the title and review, using f1_score\n",
    "## Creating the \"vader_weighted_avg\" column.\n",
    "\n",
    "analyzer = SentimentIntensityAnalyzer()\n",
    "\n",
    "# Vader scores\n",
    "data['vader_title'] = data['title'].apply(lambda x: analyzer.polarity_scores(x)['compound'])\n",
    "data['vader_review'] = data['review'].apply(lambda x: analyzer.polarity_scores(x)['compound'])\n",
    "\n",
    "# True labels\n",
    "y_true = data['sentiment']  # Replace with your actual sentiment column\n",
    "\n",
    "# Store best score and weight\n",
    "best_score = 0\n",
    "best_weight = 0\n",
    "\n",
    "# Weight range\n",
    "weights = np.arange(0.1, 0.91, 0.05)\n",
    "f1_scores = []\n",
    "\n",
    "# Loop through weights with tqdm progress bar\n",
    "for w in tqdm(weights, desc=\"Optimizing weight\"):\n",
    "    data['vader_weighted_avg'] = (w * data['vader_title']) + ((1 - w) * data['vader_review'])\n",
    "    \n",
    "    data['predicted_sentiment'] = data['vader_weighted_avg'].apply(\n",
    "        lambda x: 'positive' if x >= 0.05 else ('negative' if x <= -0.05 else 'neutral')\n",
    "    )\n",
    "    \n",
    "    f1 = f1_score(y_true, data['predicted_sentiment'], average='weighted')\n",
    "    f1_scores.append(f1)\n",
    "    \n",
    "    if f1 > best_score:\n",
    "        best_score = f1\n",
    "        best_weight = w\n",
    "\n",
    "print(f\"Best weight for Title: {best_weight:.2f}\")\n",
    "print(f\"Best validation F1 Score: {best_score:.4f}\")\n",
    "\n",
    "# Final columns using best weight\n",
    "data['vader_weighted_avg'] = (best_weight * data['vader_title']) + ((1 - best_weight) * data['vader_review'])\n",
    "data['predicted_sentiment'] = data['vader_weighted_avg'].apply(\n",
    "    lambda x: 'positive' if x >= 0.05 else ('negative' if x <= -0.05 else 'neutral')\n",
    ")"
   ]
  },
  {
   "cell_type": "code",
   "execution_count": null,
   "metadata": {},
   "outputs": [],
   "source": [
    "## Ploting the f1_score against weights\n",
    "\n",
    "plt.figure(figsize=(8,5))\n",
    "plt.plot(weights, f1_scores, marker='o', linestyle='-', color='blue')\n",
    "plt.title('Weight vs F1 Score')\n",
    "plt.xlabel('Weight for Title')\n",
    "plt.ylabel('F1 Score')\n",
    "plt.grid(True)\n",
    "plt.show()"
   ]
  },
  {
   "cell_type": "code",
   "execution_count": 21,
   "metadata": {},
   "outputs": [],
   "source": [
    "## \"flesch_reading_ease\"-->ease of readability of a review, higher-easily understandable,lower-complex\n",
    "## \"flesch_kincaid_grade\"--> based on US grade level,  higher-easily understandable,lower-complex\n",
    "\n",
    "data['flesch_reading_ease'] = data['review'].apply(textstat.flesch_reading_ease)\n",
    "data['flesch_kincaid_grade'] = data['review'].apply(textstat.flesch_kincaid_grade)"
   ]
  },
  {
   "cell_type": "code",
   "execution_count": 22,
   "metadata": {},
   "outputs": [],
   "source": [
    "## POS Tagging"
   ]
  },
  {
   "cell_type": "code",
   "execution_count": 23,
   "metadata": {},
   "outputs": [],
   "source": [
    "# import nltk\n",
    "# nltk.download('averaged_perceptron_tagger')\n",
    "# from nltk import pos_tag, word_tokenize\n",
    "\n",
    "# def count_pos(text, pos_tag_prefix):\n",
    "#     tokens = word_tokenize(text)\n",
    "#     pos_tags = pos_tag(tokens)\n",
    "#     return sum(1 for word, tag in pos_tags if tag.startswith(pos_tag_prefix))\n",
    "\n",
    "# data['noun_count'] = data['review'].apply(lambda x: count_pos(x, 'NN'))\n",
    "# data['verb_count'] = data['review'].apply(lambda x: count_pos(x, 'VB'))\n",
    "# data['adj_count'] = data['review'].apply(lambda x: count_pos(x, 'JJ'))\n"
   ]
  },
  {
   "cell_type": "code",
   "execution_count": 25,
   "metadata": {},
   "outputs": [],
   "source": [
    "def extract_pos_counts(texts):\n",
    "    noun_counts, verb_counts, adj_counts = [], [], []\n",
    "    \n",
    "    for doc in nlp.pipe(texts, batch_size=50):  # batches the texts\n",
    "        noun_counts.append(sum(1 for token in doc if token.pos_ == 'NOUN'))\n",
    "        verb_counts.append(sum(1 for token in doc if token.pos_ == 'VERB'))\n",
    "        adj_counts.append(sum(1 for token in doc if token.pos_ == 'ADJ'))\n",
    "    \n",
    "    return noun_counts, verb_counts, adj_counts\n",
    "\n",
    "# Apply in batch\n",
    "nouns, verbs, adjs = extract_pos_counts(data['review'])\n",
    "\n",
    "data['noun_count'] = nouns\n",
    "data['verb_count'] = verbs\n",
    "data['adj_count'] = adjs\n"
   ]
  },
  {
   "cell_type": "code",
   "execution_count": 26,
   "metadata": {},
   "outputs": [],
   "source": [
    "def count_entities(text, label):\n",
    "    doc = nlp(text)\n",
    "    return sum(1 for ent in doc.ents if ent.label_ == label)\n",
    "\n",
    "data['person_count'] = data['review'].apply(lambda x: count_entities(x, 'PERSON'))\n",
    "data['org_count'] = data['review'].apply(lambda x: count_entities(x, 'ORG'))\n",
    "data['gpe_count'] = data['review'].apply(lambda x: count_entities(x, 'GPE'))\n"
   ]
  },
  {
   "cell_type": "code",
   "execution_count": 27,
   "metadata": {},
   "outputs": [],
   "source": [
    "## LDA"
   ]
  },
  {
   "cell_type": "code",
   "execution_count": 36,
   "metadata": {},
   "outputs": [
    {
     "data": {
      "image/png": "[encoded data removed]",
      "text/plain": [
       "<Figure size 640x480 with 2 Axes>"
      ]
     },
     "metadata": {},
     "output_type": "display_data"
    }
   ],
   "source": [
    "## Getting the best components for making the columns for topics in the dataset\n",
    "import numpy as np\n",
    "import matplotlib.pyplot as plt\n",
    "from sklearn.decomposition import LatentDirichletAllocation\n",
    "from sklearn.feature_extraction.text import CountVectorizer\n",
    "\n",
    "# Convert token lists to space-joined strings\n",
    "data['lemmatized_text'] = data['lemmatized_tokens'].apply(lambda tokens: ' '.join(tokens))\n",
    "\n",
    "# Vectorize text\n",
    "vectorizer = CountVectorizer()\n",
    "X = vectorizer.fit_transform(data['lemmatized_text'])\n",
    "\n",
    "perplexities = []\n",
    "log_likelihoods = []\n",
    "n_topics_range = range(2, 15)  # Try from 2 topics to 14 topics\n",
    "\n",
    "for n_topics in n_topics_range:\n",
    "    lda = LatentDirichletAllocation(n_components=n_topics, random_state=42)\n",
    "    lda.fit(X)\n",
    "    \n",
    "    perplexities.append(lda.perplexity(X))\n",
    "    log_likelihoods.append(lda.score(X))\n",
    "\n",
    "# Plot\n",
    "fig, ax1 = plt.subplots()\n",
    "\n",
    "color = 'tab:red'\n",
    "ax1.set_xlabel('Number of Topics')\n",
    "ax1.set_ylabel('Perplexity', color=color)\n",
    "ax1.plot(n_topics_range, perplexities, marker='o', color=color)\n",
    "ax1.tick_params(axis='y', labelcolor=color)\n",
    "\n",
    "ax2 = ax1.twinx()\n",
    "\n",
    "color = 'tab:blue'\n",
    "ax2.set_ylabel('Log Likelihood', color=color)\n",
    "ax2.plot(n_topics_range, log_likelihoods, marker='o', color=color)\n",
    "ax2.tick_params(axis='y', labelcolor=color)\n",
    "\n",
    "plt.title('Choosing Best n_components for LDA')\n",
    "plt.show()\n"
   ]
  },
  {
   "cell_type": "code",
   "execution_count": 71,
   "metadata": {},
   "outputs": [],
   "source": [
    "### function to find the n_components programatically\n",
    "\n",
    "# from kneed import KneeLocator\n",
    "\n",
    "# def find_best_n_components(n_topics_range, perplexities, log_likelihoods, method='perplexity'):\n",
    "#     \"\"\"\n",
    "#     Automatically find the elbow/knee point from perplexity or log-likelihood scores.\n",
    "    \n",
    "#     Parameters:\n",
    "#     - n_topics_range: list of integers (e.g., [5, 10, 15, 20, 25])\n",
    "#     - perplexities: list of perplexity scores\n",
    "#     - log_likelihoods: list of log-likelihood scores\n",
    "#     - method: 'perplexity' (default) or 'log_likelihood'\n",
    "    \n",
    "#     Returns:\n",
    "#     - Best number of topics (n_components)\n",
    "#     \"\"\"\n",
    "#     if method == 'perplexity':\n",
    "#         # Lower is better — looking for minimum curve\n",
    "#         kneedle = KneeLocator(n_topics_range, perplexities, curve='convex', direction='decreasing')\n",
    "#     elif method == 'log_likelihood':\n",
    "#         # Higher is better — looking for maximum curve\n",
    "#         kneedle = KneeLocator(n_topics_range, log_likelihoods, curve='concave', direction='increasing')\n",
    "#     else:\n",
    "#         raise ValueError(\"Method must be either 'perplexity' or 'log_likelihood'.\")\n",
    "\n",
    "#     print(f\"Detected best n_components based on {method}: {kneedle.knee}\")\n",
    "#     return kneedle.knee\n",
    "\n",
    "\n",
    "# best_n = find_best_n_components(n_topics_range, perplexities, log_likelihoods, method='perplexity')\n",
    "# # or\n",
    "# best_n = find_best_n_components(n_topics_range, perplexities, log_likelihoods, method='log_likelihood')\n"
   ]
  },
  {
   "cell_type": "code",
   "execution_count": 37,
   "metadata": {},
   "outputs": [],
   "source": [
    "### CREATING THE TOPICS USING THE BEST N_COMPONENTS FROM THE FORMER CODE\n",
    "\n",
    "from sklearn.decomposition import LatentDirichletAllocation\n",
    "from sklearn.feature_extraction.text import CountVectorizer\n",
    "\n",
    "# Step 1: Vectorize the text\n",
    "vectorizer = CountVectorizer(max_df=0.95, min_df=2, stop_words='english')\n",
    "doc_term_matrix = vectorizer.fit_transform(data['lemmatized_text'])\n",
    "\n",
    "# Step 2: Fit LDA model\n",
    "lda = LatentDirichletAllocation(n_components=2, random_state=42)\n",
    "lda.fit(doc_term_matrix)\n",
    "\n",
    "# Step 3: Get topic distributions for each document\n",
    "topic_distributions = lda.transform(doc_term_matrix)\n",
    "\n",
    "# Step 4: Add each topic's weight as a feature\n",
    "for i in range(topic_distributions.shape[1]):\n",
    "    data[f'topic_{i}'] = topic_distributions[:, i]\n"
   ]
  },
  {
   "cell_type": "code",
   "execution_count": 41,
   "metadata": {},
   "outputs": [],
   "source": [
    "## SPELLING ERROR "
   ]
  },
  {
   "cell_type": "code",
   "execution_count": 43,
   "metadata": {},
   "outputs": [],
   "source": [
    "from spellchecker import SpellChecker\n",
    "\n",
    "spell = SpellChecker()\n",
    "\n",
    "def count_spelling_errors(text):\n",
    "    words = text.split()\n",
    "    misspelled = spell.unknown(words)\n",
    "    return len(misspelled)\n",
    "\n",
    "data['count_of_spelling_errors'] = data['review'].apply(count_spelling_errors)"
   ]
  },
  {
   "cell_type": "code",
   "execution_count": 39,
   "metadata": {},
   "outputs": [],
   "source": [
    "## EXTRACTING THE DATA INTO A CSV WITH THE FEATURES FOR APPYING IT TO OUR PREVIOUS MACHINE LEARNING MODELS"
   ]
  },
  {
   "cell_type": "code",
   "execution_count": 44,
   "metadata": {},
   "outputs": [],
   "source": [
    "data.to_csv(\"data_feature_engineered.csv\")"
   ]
  }
 ],
 "metadata": {
  "kernelspec": {
   "display_name": "venv",
   "language": "python",
   "name": "python3"
  },
  "language_info": {
   "codemirror_mode": {
    "name": "ipython",
    "version": 3
   },
   "file_extension": ".py",
   "mimetype": "text/x-python",
   "name": "python",
   "nbconvert_exporter": "python",
   "pygments_lexer": "ipython3",
   "version": "3.10.16"
  }
 },
 "nbformat": 4,
 "nbformat_minor": 2
}
