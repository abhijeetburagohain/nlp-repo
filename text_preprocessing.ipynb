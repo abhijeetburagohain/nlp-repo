{
 "cells": [
  {
   "cell_type": "code",
   "execution_count": 1,
   "metadata": {},
   "outputs": [],
   "source": [
    "import spacy\n",
    "import pandas as pd\n",
    "import string\n",
    "from tqdm import tqdm\n",
    "import ast\n",
    "import re\n",
    "import emoji\n",
    "import numpy as np\n"
   ]
  },
  {
   "cell_type": "code",
   "execution_count": 2,
   "metadata": {},
   "outputs": [],
   "source": [
    "data=pd.read_csv(r\"/Users/abhijeetburagohain/Downloads/laptops_dataset_final_600.csv\")"
   ]
  },
  {
   "cell_type": "code",
   "execution_count": 2,
   "metadata": {},
   "outputs": [],
   "source": [
    "## Loading the spacy \n",
    "nlp = spacy.load(\"en_core_web_sm\")"
   ]
  },
  {
   "cell_type": "code",
   "execution_count": 4,
   "metadata": {},
   "outputs": [],
   "source": [
    "## Appling tokenization to the 'review' column\n",
    "data['tokens'] = data['review'].apply(lambda x: [token.text for token in nlp(x)] if pd.notnull(x) else [])\n",
    "\n",
    "## Appling tokenization to the 'title' column\n",
    "data['tokens_title'] = data['title'].apply(lambda x: [token.text for token in nlp(x)] if pd.notnull(x) else [])"
   ]
  },
  {
   "cell_type": "code",
   "execution_count": 3,
   "metadata": {},
   "outputs": [],
   "source": [
    "def safe_lower(tokens):\n",
    "    if isinstance(tokens, list):\n",
    "        return [str(token).lower().strip() for token in tokens]\n",
    "    return tokens\n",
    "\n",
    "data['tokens'] = data['tokens'].apply(safe_lower)\n",
    "data['tokens_title'] = data['tokens_title'].apply(safe_lower)"
   ]
  },
  {
   "cell_type": "code",
   "execution_count": 4,
   "metadata": {},
   "outputs": [],
   "source": [
    "## Removing the stop words\n",
    "stopwords = nlp.Defaults.stop_words\n",
    "punctuations = string.punctuation\n",
    "\n",
    "def clean_tokens(token_list):\n",
    "    return [\n",
    "        token for token in token_list\n",
    "        if token.lower() not in stopwords and token not in punctuations\n",
    "    ]\n",
    "\n",
    "data['clean_tokens'] = data['tokens'].apply(clean_tokens)\n",
    "data['tokens_title'] = data['tokens_title'].apply(clean_tokens)"
   ]
  },
  {
   "cell_type": "code",
   "execution_count": 5,
   "metadata": {},
   "outputs": [],
   "source": [
    "### FUNCTIONS FOR CLEANING THE UNWANTED SYMBOLS\n",
    "def remove_prefix_noise(token):\n",
    "    # Remove patterns like '1)', '2)', etc.\n",
    "    token = re.sub(r'^\\d+\\)', '', token)\n",
    "\n",
    "    # Remove patterns like '1.', '2.', etc. ONLY if not followed by a digit (e.g. 1.design, not 1.5)\n",
    "    token = re.sub(r'^\\d+\\.(?=[a-zA-Z])', '', token)\n",
    "\n",
    "    # Remove patterns like '3-', '4-', etc. at the start\n",
    "    token = re.sub(r'^\\d+-:-;-', '', token)\n",
    "\n",
    "    return token\n",
    "\n",
    "\n",
    "def remove_unwanted_symbols(token_list):\n",
    "    bad_tokens = {\"\", \"\\n\", \"\\\\n\", \"..\", \"...\", \".\", \"️\", '....','\\n\\n','\\n\\n\\n','.......','......',\n",
    "                    '):','-)',\"--------\",\"----\",\"---\",\"--\",\"-\",'.....', '........', '.........', '..........', '............', '.............', '..............', '................',\n",
    "                    '/-','-','-)',',',\"#\",\"&\"}  # include the invisible '️'\n",
    "    cleaned = [token.strip() for token in token_list if token.strip() not in bad_tokens]\n",
    "    cleaned = [\n",
    "        \"\" if token.lstrip(\"-/\\\\.#&\") in bad_tokens else remove_prefix_noise(token.lstrip(\"-/\\\\.#&\"))\n",
    "        for token in cleaned\n",
    "        ]\n",
    "    return cleaned\n",
    "\n",
    "\n",
    "data['clean_tokens'] = data['clean_tokens'].apply(remove_unwanted_symbols)\n",
    "data['tokens_title'] = data['tokens_title'].apply(remove_unwanted_symbols)"
   ]
  },
  {
   "cell_type": "code",
   "execution_count": 6,
   "metadata": {},
   "outputs": [],
   "source": [
    "# Normalize number strings inside individual tokens\n",
    "def normalize_token(token):\n",
    "    if isinstance(token, str):\n",
    "        # Convert \"23,000\" → \"23000\"\n",
    "        token = re.sub(r'(\\d{1,3}(?:,\\d{3})+)', lambda m: m.group(1).replace(',', ''), token)\n",
    "        # Convert \"23k\"/\"23K\" → \"23000\"\n",
    "        token = re.sub(r'^(\\d+)[kKk.]$', lambda m: str(int(m.group(1)) * 1000), token)\n",
    "        token = re.sub(r'^(\\d+)(lakh|lakhs)$', lambda m: str(int(m.group(1)) * 100000), token, flags=re.IGNORECASE)\n",
    "    return token\n",
    "\n",
    "# Apply it to each token in the list\n",
    "def normalize_token_list(token_list):\n",
    "    return [normalize_token(token) for token in token_list]\n",
    "\n",
    "# Apply to your DataFrame column\n",
    "data['clean_tokens'] = data['clean_tokens'].apply(normalize_token_list)\n",
    "data['tokens_title'] = data['tokens_title'].apply(normalize_token_list)\n"
   ]
  },
  {
   "cell_type": "code",
   "execution_count": 9,
   "metadata": {},
   "outputs": [],
   "source": [
    "## CORRECTING SPELLINGS CAN ALSO INTRODUCE NEW SPELLING ERRORS INTO THE CORPUS, WHICH CAN DE-ENHANCE THE MODEL\n",
    "## PERFORMANCE, AND ALSO SPELLING CORRECTTING IS COMPUTATIONALLY CUMBERSOME. SO WE WILL ONLY GET A\n",
    "##  FEATURE (SPELLING ERROR), TO GET THE IDEA OF THE QUALITY OF THE REVIEW , IT WILL BE IN THE FEATURE ENGINEERING \n",
    "##  PART"
   ]
  },
  {
   "cell_type": "code",
   "execution_count": 10,
   "metadata": {},
   "outputs": [],
   "source": [
    "### Extracting Hindi words from the corpus"
   ]
  },
  {
   "cell_type": "code",
   "execution_count": 7,
   "metadata": {},
   "outputs": [],
   "source": [
    "hindi_to_eng = {\n",
    "    \"bakwas\": \"nonsense\",\n",
    "    \"zabardast\": \"awesome\",\n",
    "    \"achha\": \"good\",\n",
    "    \"ghatiya\": \"bad\",\n",
    "    \"mast\": \"great\"\n",
    "}\n",
    "\n",
    "def translate_hindi_words(tokens):\n",
    "    return [hindi_to_eng.get(word.lower(), word) for word in tokens]\n",
    "\n",
    "data['clean_tokens'] = data['clean_tokens'].apply(translate_hindi_words)\n",
    "data['tokens_title'] = data['tokens_title'].apply(translate_hindi_words)"
   ]
  },
  {
   "cell_type": "code",
   "execution_count": 12,
   "metadata": {},
   "outputs": [],
   "source": [
    "## Checking for empty clean tokens list and replacing it with the tokens from the title tokens column\n",
    "data[\"clean_tokens_length\"]=data['clean_tokens'].apply(lambda x: len(x))\n",
    "data.loc[data[\"clean_tokens_length\"] == 0, \"clean_tokens\"] = data[\"tokens_title\"]"
   ]
  },
  {
   "cell_type": "code",
   "execution_count": 13,
   "metadata": {},
   "outputs": [],
   "source": [
    "## Creating lemmas for the review column\n",
    "\n",
    "tqdm.pandas()  # Optional: adds a nice progress bar\n",
    "\n",
    "valid_rows = data['clean_tokens'].apply(lambda x: isinstance(x, list))               # Step 1: Filter rows with valid lists of tokens\n",
    "texts = data.loc[valid_rows, 'clean_tokens'].apply(lambda tokens: \" \".join(tokens))  # Step 2: Join tokens into text for spaCy processing\n",
    "docs = list(nlp.pipe(texts, batch_size=50))                                          # Step 3: Process in batch with nlp.pipe\n",
    "lemmatized = [[token.lemma_ for token in doc] for doc in docs]                       # Step 4: Extract lemmas from each Doc\n",
    "\n",
    "# Create the column first as object type to handle sequences\n",
    "data['lemmatized_tokens'] = None\n",
    "data.loc[valid_rows, 'lemmatized_tokens'] = pd.Series(lemmatized, index=data.loc[valid_rows].index)\n"
   ]
  },
  {
   "cell_type": "code",
   "execution_count": 14,
   "metadata": {},
   "outputs": [],
   "source": [
    "data.to_csv(\"cleaned_data.csv\")"
   ]
  },
  {
   "cell_type": "code",
   "execution_count": 3,
   "metadata": {},
   "outputs": [],
   "source": [
    "## Reading the dataset [preprossed]\n",
    "data=pd.read_csv(\"cleaned_data.csv\")"
   ]
  },
  {
   "cell_type": "markdown",
   "metadata": {},
   "source": [
    "Will read the feature engineered file, and run the models agian incorparating the features and compare the model performance and choose the best model for our project"
   ]
  },
  {
   "cell_type": "code",
   "execution_count": 3,
   "metadata": {},
   "outputs": [],
   "source": [
    "## Reading the feature engineered file\n",
    "data=pd.read_csv(r\"data_feature_engineered.csv\",low_memory=False)"
   ]
  },
  {
   "cell_type": "code",
   "execution_count": 4,
   "metadata": {},
   "outputs": [],
   "source": [
    "## Selecting the featurs that are needed to incorpoarte into the models\n",
    "\n",
    "features=['sentiment_polarity', 'sentiment_subjectivity','sentiment_polarity_2', 'sentiment_subjectivity_2', \n",
    "            'vader_title','vader_review','vader_weighted_avg', 'flesch_reading_ease',\n",
    "            'flesch_kincaid_grade','noun_count', 'verb_count', 'adj_count', 'person_count', 'org_count',\n",
    "            'gpe_count','topic_0', 'topic_1','count_of_spelling_errors']"
   ]
  },
  {
   "cell_type": "code",
   "execution_count": 5,
   "metadata": {},
   "outputs": [],
   "source": [
    "## Scaling the feautures \n",
    "from sklearn.preprocessing import StandardScaler\n",
    "\n",
    "manual_features = data[features]\n",
    "scaler = StandardScaler()\n",
    "scaled_manual = scaler.fit_transform(manual_features)"
   ]
  },
  {
   "cell_type": "code",
   "execution_count": 7,
   "metadata": {},
   "outputs": [],
   "source": [
    "data['lemmatized_tokens'] = data['lemmatized_tokens'].apply(ast.literal_eval)\n",
    "\n",
    "### EMOJIS CLEANING [CONVERTING THEM TO TEXTS]\n",
    "def demojize_tokens(tokens):\n",
    "    return [emoji.demojize(token, language='en') for token in tokens]\n",
    "\n",
    "data['clean_tokens_demojize'] = data['lemmatized_tokens'].apply(demojize_tokens)\n",
    "\n",
    "# Join tokens back to text format\n",
    "data['clean_text'] = data['clean_tokens_demojize'].apply(lambda x: ' '.join(x))"
   ]
  },
  {
   "cell_type": "code",
   "execution_count": 8,
   "metadata": {},
   "outputs": [],
   "source": [
    "###  Making a sentiment column\n",
    "## the sentiment is changed to 2 , because getting less accuracy in neutral, because of less samples and underfitting\n",
    "def get_sentiment(rating):\n",
    "    if rating >= 4:\n",
    "        return 'positive'\n",
    "    elif rating == 3:\n",
    "        return 'neutral'\n",
    "    else:\n",
    "        return 'negative'\n",
    "\n",
    "data['sentiment'] = data['rating'].apply(get_sentiment)"
   ]
  },
  {
   "cell_type": "code",
   "execution_count": 9,
   "metadata": {},
   "outputs": [],
   "source": [
    "from sklearn.preprocessing import LabelEncoder\n",
    "\n",
    "le = LabelEncoder()\n",
    "y = le.fit_transform(data['sentiment'])  # 0 = negative, 1 = neutral, 2 = positive"
   ]
  },
  {
   "cell_type": "code",
   "execution_count": 18,
   "metadata": {},
   "outputs": [],
   "source": [
    "### WILL LATER TRY ON WORD2VEC"
   ]
  },
  {
   "cell_type": "code",
   "execution_count": 8,
   "metadata": {},
   "outputs": [],
   "source": [
    "from sklearn.feature_extraction.text import TfidfVectorizer\n",
    "\n",
    "# Join tokens back to text format\n",
    "# data['clean_text'] = data['lemmatized_tokens'].apply(lambda x: ' '.join(x))\n",
    "\n",
    "tfidf = TfidfVectorizer(max_features=5000)  # You can adjust max_features\n",
    "X = tfidf.fit_transform(data['clean_text'])\n",
    "\n",
    "print(X.shape)  # (rows, features)\n"
   ]
  },
  {
   "cell_type": "code",
   "execution_count": 11,
   "metadata": {},
   "outputs": [],
   "source": [
    "## Adding the features to the tf-idf matrix\n",
    "\n",
    "from scipy.sparse import hstack\n",
    "\n",
    "X = hstack([X, scaled_manual])  # Final feature matrix"
   ]
  },
  {
   "cell_type": "code",
   "execution_count": 12,
   "metadata": {},
   "outputs": [
    {
     "data": {
      "text/plain": [
       "(24113, 5018)"
      ]
     },
     "execution_count": 12,
     "metadata": {},
     "output_type": "execute_result"
    }
   ],
   "source": [
    "X.shape"
   ]
  },
  {
   "cell_type": "code",
   "execution_count": 13,
   "metadata": {},
   "outputs": [],
   "source": [
    "from sklearn.model_selection import train_test_split\n",
    "\n",
    "X_train, X_test, y_train, y_test = train_test_split(X, y, test_size=0.2, random_state=42)\n"
   ]
  },
  {
   "cell_type": "markdown",
   "metadata": {},
   "source": [
    "MODELLING"
   ]
  },
  {
   "cell_type": "code",
   "execution_count": 28,
   "metadata": {},
   "outputs": [],
   "source": [
    "### RANDOM FORREST CLASSIFIER"
   ]
  },
  {
   "cell_type": "code",
   "execution_count": null,
   "metadata": {},
   "outputs": [],
   "source": [
    "### DOING A RANDOMSEARCHcv TO GET THE BEST PARAMS [appling smote and standard cv]\n",
    "\n",
    "from sklearn.ensemble import RandomForestClassifier\n",
    "from sklearn.model_selection import RandomizedSearchCV\n",
    "from imblearn.pipeline import Pipeline\n",
    "from imblearn.over_sampling import SMOTE\n",
    "from scipy.stats import randint\n",
    "import numpy as np\n",
    "\n",
    "# Define the pipeline with SMOTE and RandomForestClassifier\n",
    "pipeline = Pipeline([\n",
    "    ('smote', SMOTE(random_state=42)),\n",
    "    ('rf', RandomForestClassifier(class_weight='balanced', random_state=42))\n",
    "])\n",
    "\n",
    "# Define the parameter distributions for RandomizedSearchCV\n",
    "param_distributions = {\n",
    "    'rf__n_estimators': randint(100, 301),  # Randomly select n_estimators between 100 and 300\n",
    "    'rf__max_depth': [10, 20, None],\n",
    "    'rf__min_samples_split': [2, 5],\n",
    "    'rf__max_features': ['sqrt', 'log2'],\n",
    "    'criterion': ['gini', 'entropy']\n",
    "}\n",
    "\n",
    "# Initialize RandomizedSearchCV\n",
    "random_search = RandomizedSearchCV(\n",
    "    estimator=pipeline,\n",
    "    param_distributions=param_distributions,\n",
    "    n_iter=5,  # Number of parameter settings sampled\n",
    "    scoring='f1_macro',\n",
    "    cv=5,\n",
    "    verbose=2,\n",
    "    n_jobs=-1,\n",
    "    random_state=42\n",
    ")\n",
    "\n",
    "# Fit the model\n",
    "random_search.fit(X_train, y_train)\n",
    "\n",
    "# Output the best parameters and score\n",
    "print(\"Best Parameters:\", random_search.best_params_)\n",
    "print(\"Best Score:\", random_search.best_score_)\n"
   ]
  },
  {
   "cell_type": "code",
   "execution_count": 48,
   "metadata": {},
   "outputs": [
    {
     "name": "stdout",
     "output_type": "stream",
     "text": [
      "Fitting 5 folds for each of 7 candidates, totalling 35 fits\n",
      "[CV] END rf__criterion=gini, rf__max_depth=10, rf__max_features=sqrt, rf__min_samples_split=2, rf__n_estimators=171; total time=  15.5s\n",
      "[CV] END rf__criterion=gini, rf__max_depth=10, rf__max_features=sqrt, rf__min_samples_split=2, rf__n_estimators=171; total time=  15.8s\n",
      "[CV] END rf__criterion=gini, rf__max_depth=10, rf__max_features=sqrt, rf__min_samples_split=2, rf__n_estimators=171; total time=  15.9s\n",
      "[CV] END rf__criterion=gini, rf__max_depth=10, rf__max_features=sqrt, rf__min_samples_split=2, rf__n_estimators=171; total time=  16.0s\n",
      "[CV] END rf__criterion=gini, rf__max_depth=10, rf__max_features=sqrt, rf__min_samples_split=2, rf__n_estimators=171; total time=  15.8s\n",
      "[CV] END rf__criterion=gini, rf__max_depth=10, rf__max_features=sqrt, rf__min_samples_split=5, rf__n_estimators=174; total time=  16.1s\n",
      "[CV] END rf__criterion=gini, rf__max_depth=10, rf__max_features=sqrt, rf__min_samples_split=5, rf__n_estimators=174; total time=  16.0s\n",
      "[CV] END rf__criterion=gini, rf__max_depth=10, rf__max_features=sqrt, rf__min_samples_split=5, rf__n_estimators=174; total time=  16.5s\n",
      "[CV] END rf__criterion=gini, rf__max_depth=10, rf__max_features=log2, rf__min_samples_split=5, rf__n_estimators=251; total time=  14.6s\n",
      "[CV] END rf__criterion=gini, rf__max_depth=10, rf__max_features=log2, rf__min_samples_split=5, rf__n_estimators=251; total time=  14.0s\n",
      "[CV] END rf__criterion=gini, rf__max_depth=10, rf__max_features=sqrt, rf__min_samples_split=5, rf__n_estimators=174; total time=  21.0s\n",
      "[CV] END rf__criterion=gini, rf__max_depth=10, rf__max_features=sqrt, rf__min_samples_split=5, rf__n_estimators=174; total time=  20.4s\n",
      "[CV] END rf__criterion=gini, rf__max_depth=10, rf__max_features=log2, rf__min_samples_split=5, rf__n_estimators=251; total time=   9.6s\n",
      "[CV] END rf__criterion=gini, rf__max_depth=10, rf__max_features=log2, rf__min_samples_split=5, rf__n_estimators=251; total time=  10.1s\n",
      "[CV] END rf__criterion=gini, rf__max_depth=10, rf__max_features=log2, rf__min_samples_split=5, rf__n_estimators=251; total time=  10.0s\n",
      "[CV] END rf__criterion=gini, rf__max_depth=20, rf__max_features=sqrt, rf__min_samples_split=5, rf__n_estimators=187; total time=  36.2s\n",
      "[CV] END rf__criterion=gini, rf__max_depth=20, rf__max_features=sqrt, rf__min_samples_split=5, rf__n_estimators=187; total time=  35.8s\n",
      "[CV] END rf__criterion=gini, rf__max_depth=20, rf__max_features=sqrt, rf__min_samples_split=5, rf__n_estimators=187; total time=  35.4s\n",
      "[CV] END rf__criterion=gini, rf__max_depth=20, rf__max_features=sqrt, rf__min_samples_split=5, rf__n_estimators=187; total time=  36.0s\n",
      "[CV] END rf__criterion=entropy, rf__max_depth=20, rf__max_features=log2, rf__min_samples_split=5, rf__n_estimators=291; total time=  24.8s\n",
      "[CV] END rf__criterion=entropy, rf__max_depth=20, rf__max_features=log2, rf__min_samples_split=5, rf__n_estimators=291; total time=  24.9s\n",
      "[CV] END rf__criterion=entropy, rf__max_depth=20, rf__max_features=log2, rf__min_samples_split=5, rf__n_estimators=291; total time=  27.3s\n",
      "[CV] END rf__criterion=gini, rf__max_depth=20, rf__max_features=sqrt, rf__min_samples_split=5, rf__n_estimators=187; total time=  43.7s\n",
      "[CV] END rf__criterion=entropy, rf__max_depth=20, rf__max_features=log2, rf__min_samples_split=5, rf__n_estimators=291; total time=  22.8s\n",
      "[CV] END rf__criterion=entropy, rf__max_depth=20, rf__max_features=log2, rf__min_samples_split=5, rf__n_estimators=291; total time=  22.5s\n",
      "[CV] END rf__criterion=entropy, rf__max_depth=10, rf__max_features=sqrt, rf__min_samples_split=5, rf__n_estimators=157; total time=  14.8s\n",
      "[CV] END rf__criterion=entropy, rf__max_depth=10, rf__max_features=sqrt, rf__min_samples_split=5, rf__n_estimators=157; total time=  15.2s\n",
      "[CV] END rf__criterion=entropy, rf__max_depth=10, rf__max_features=log2, rf__min_samples_split=2, rf__n_estimators=148; total time=   6.9s\n",
      "[CV] END rf__criterion=entropy, rf__max_depth=10, rf__max_features=sqrt, rf__min_samples_split=5, rf__n_estimators=157; total time=  16.1s\n",
      "[CV] END rf__criterion=entropy, rf__max_depth=10, rf__max_features=sqrt, rf__min_samples_split=5, rf__n_estimators=157; total time=  16.7s\n",
      "[CV] END rf__criterion=entropy, rf__max_depth=10, rf__max_features=sqrt, rf__min_samples_split=5, rf__n_estimators=157; total time=  16.3s\n",
      "[CV] END rf__criterion=entropy, rf__max_depth=10, rf__max_features=log2, rf__min_samples_split=2, rf__n_estimators=148; total time=   7.1s\n",
      "[CV] END rf__criterion=entropy, rf__max_depth=10, rf__max_features=log2, rf__min_samples_split=2, rf__n_estimators=148; total time=   7.0s\n",
      "[CV] END rf__criterion=entropy, rf__max_depth=10, rf__max_features=log2, rf__min_samples_split=2, rf__n_estimators=148; total time=   6.7s\n",
      "[CV] END rf__criterion=entropy, rf__max_depth=10, rf__max_features=log2, rf__min_samples_split=2, rf__n_estimators=148; total time=   6.6s\n",
      "Best Parameters: {'rf__criterion': 'gini', 'rf__max_depth': 20, 'rf__max_features': 'sqrt', 'rf__min_samples_split': 5, 'rf__n_estimators': 187}\n",
      "Best Score: 0.8392087166948295\n"
     ]
    }
   ],
   "source": [
    "## applying SMOTE and Stratified K fold\n",
    "\n",
    "from sklearn.ensemble import RandomForestClassifier\n",
    "from sklearn.model_selection import RandomizedSearchCV, StratifiedKFold\n",
    "from imblearn.pipeline import Pipeline\n",
    "from scipy.stats import randint\n",
    "import numpy as np\n",
    "\n",
    "# Use SMOTEN instead of SMOTE\n",
    "pipeline = Pipeline([\n",
    "    ('smote', SMOTE(random_state=42)),\n",
    "    ('rf', RandomForestClassifier(class_weight='balanced', random_state=42))\n",
    "])\n",
    "\n",
    "# Define the parameter distributions for RandomizedSearchCV\n",
    "param_distributions = {\n",
    "    'rf__n_estimators': randint(100, 301),\n",
    "    'rf__max_depth': [10, 20, None],\n",
    "    'rf__min_samples_split': [2, 5],\n",
    "    'rf__max_features': ['sqrt', 'log2'],\n",
    "    'rf__criterion': ['gini', 'entropy']  # Fixed parameter name prefix\n",
    "}\n",
    "\n",
    "# Use StratifiedKFold to maintain class distribution in each fold\n",
    "cv_strategy = StratifiedKFold(n_splits=5, shuffle=True, random_state=42)\n",
    "\n",
    "# Initialize RandomizedSearchCV\n",
    "random_search = RandomizedSearchCV(\n",
    "    estimator=pipeline,\n",
    "    param_distributions=param_distributions,\n",
    "    n_iter=7,\n",
    "    scoring='f1_macro',\n",
    "    cv=cv_strategy,\n",
    "    verbose=2,\n",
    "    n_jobs=-1,\n",
    "    random_state=42\n",
    ")\n",
    "\n",
    "# Fit the model\n",
    "random_search.fit(X_train, y_train)\n",
    "\n",
    "# Output the best parameters and score\n",
    "print(\"Best Parameters:\", random_search.best_params_)\n",
    "print(\"Best Score:\", random_search.best_score_)\n"
   ]
  },
  {
   "cell_type": "code",
   "execution_count": 49,
   "metadata": {},
   "outputs": [
    {
     "name": "stdout",
     "output_type": "stream",
     "text": [
      "              precision    recall  f1-score   support\n",
      "\n",
      "           0       0.91      0.95      0.93       507\n",
      "           1       0.64      0.74      0.69       376\n",
      "           2       0.98      0.96      0.97      3940\n",
      "\n",
      "    accuracy                           0.94      4823\n",
      "   macro avg       0.84      0.88      0.86      4823\n",
      "weighted avg       0.94      0.94      0.94      4823\n",
      "\n"
     ]
    }
   ],
   "source": [
    "from sklearn.metrics import classification_report\n",
    "# Predict on the test set\n",
    "y_pred = random_search.best_estimator_.predict(X_test)\n",
    "\n",
    "# Generate classification report\n",
    "print(classification_report(y_test, y_pred))"
   ]
  },
  {
   "cell_type": "code",
   "execution_count": 107,
   "metadata": {},
   "outputs": [
    {
     "data": {
      "text/plain": [
       "(4823, 5018)"
      ]
     },
     "execution_count": 107,
     "metadata": {},
     "output_type": "execute_result"
    }
   ],
   "source": [
    "X_test.shape"
   ]
  },
  {
   "cell_type": "code",
   "execution_count": 50,
   "metadata": {},
   "outputs": [
    {
     "name": "stdout",
     "output_type": "stream",
     "text": [
      "Training Report:\n",
      "              precision    recall  f1-score   support\n",
      "\n",
      "           0       0.90      0.96      0.93      1970\n",
      "           1       0.74      0.84      0.79      1659\n",
      "           2       0.98      0.96      0.97     15661\n",
      "\n",
      "    accuracy                           0.95     19290\n",
      "   macro avg       0.88      0.92      0.90     19290\n",
      "weighted avg       0.95      0.95      0.95     19290\n",
      "\n",
      "Training Accuracy: 0.9515292897874547\n",
      "Test Report:\n",
      "              precision    recall  f1-score   support\n",
      "\n",
      "           0       0.91      0.95      0.93       507\n",
      "           1       0.64      0.74      0.69       376\n",
      "           2       0.98      0.96      0.97      3940\n",
      "\n",
      "    accuracy                           0.94      4823\n",
      "   macro avg       0.84      0.88      0.86      4823\n",
      "weighted avg       0.94      0.94      0.94      4823\n",
      "\n",
      "Test Accuracy: 0.9396641094754302\n"
     ]
    }
   ],
   "source": [
    "from sklearn.metrics import classification_report, accuracy_score\n",
    "\n",
    "# On training set\n",
    "y_train_pred = random_search.best_estimator_.predict(X_train)\n",
    "print(\"Training Report:\")\n",
    "print(classification_report(y_train, y_train_pred))\n",
    "print(\"Training Accuracy:\", accuracy_score(y_train, y_train_pred))\n",
    "\n",
    "# On test set\n",
    "y_test_pred = random_search.best_estimator_.predict(X_test)\n",
    "print(\"Test Report:\")\n",
    "print(classification_report(y_test, y_test_pred))\n",
    "print(\"Test Accuracy:\", accuracy_score(y_test, y_test_pred))\n"
   ]
  },
  {
   "cell_type": "code",
   "execution_count": null,
   "metadata": {},
   "outputs": [],
   "source": [
    "## SVM [Support Vector Machines] [Excluding the SVM, because : 1--> high dimensional data,\n",
    "## 2--> time taking,3-->High parameter tuning complexity]"
   ]
  },
  {
   "cell_type": "code",
   "execution_count": null,
   "metadata": {},
   "outputs": [],
   "source": [
    "# from sklearn.svm import SVC\n",
    "# from sklearn.model_selection import RandomizedSearchCV, StratifiedKFold\n",
    "# from imblearn.pipeline import Pipeline\n",
    "# from imblearn.over_sampling import SMOTE\n",
    "# from scipy.stats import uniform\n",
    "\n",
    "# # Define pipeline\n",
    "# pipeline_svm = Pipeline([\n",
    "#     ('smote', SMOTE(random_state=42)),\n",
    "#     ('svm', SVC(probability=True))\n",
    "# ])\n",
    "\n",
    "# # Hyperparameter distributions\n",
    "# param_distributions_svm = {\n",
    "#     'svm__C': uniform(0.1, 10),           # Regularization parameter\n",
    "#     'svm__kernel': ['linear', 'rbf'],     # Linear or RBF kernel\n",
    "#     'svm__gamma': ['scale', 'auto']       # Kernel coefficient\n",
    "# }\n",
    "\n",
    "# # Stratified K-Fold CV\n",
    "# cv_strategy = StratifiedKFold(n_splits=5, shuffle=True, random_state=42)\n",
    "\n",
    "# # RandomizedSearchCV for SVM\n",
    "# random_search_svm = RandomizedSearchCV(\n",
    "#     estimator=pipeline_svm,\n",
    "#     param_distributions=param_distributions_svm,\n",
    "#     n_iter=10,\n",
    "#     scoring='f1_macro',\n",
    "#     cv=cv_strategy,\n",
    "#     verbose=2,\n",
    "#     n_jobs=-1,\n",
    "#     random_state=42\n",
    "# )\n",
    "\n",
    "# # Fit model\n",
    "# random_search_svm.fit(X_train, y_train)\n",
    "\n",
    "# print(\"SVM Best Parameters:\", random_search_svm.best_params_)\n",
    "# print(\"SVM Best Score:\", random_search_svm.best_score_)\n"
   ]
  },
  {
   "cell_type": "code",
   "execution_count": null,
   "metadata": {},
   "outputs": [],
   "source": [
    "# from sklearn.svm import SVC\n",
    "\n",
    "# # Initialize the SVM model with class weight balanced\n",
    "# svm_model = SVC(class_weight='balanced', kernel='linear', probability=True, random_state=42)\n",
    "\n",
    "# # Train the model\n",
    "# svm_model.fit(X_train, y_train)\n",
    "\n",
    "# # Predict on the test set\n",
    "# y_pred = svm_model.predict(X_test)\n",
    "\n",
    "# # Print the classification report\n",
    "# print(classification_report(y_test, y_pred))\n"
   ]
  },
  {
   "cell_type": "code",
   "execution_count": null,
   "metadata": {},
   "outputs": [],
   "source": [
    "### XGBOOST "
   ]
  },
  {
   "cell_type": "code",
   "execution_count": 14,
   "metadata": {},
   "outputs": [
    {
     "name": "stdout",
     "output_type": "stream",
     "text": [
      "Fitting 5 folds for each of 10 candidates, totalling 50 fits\n"
     ]
    },
    {
     "name": "stderr",
     "output_type": "stream",
     "text": [
      "/Users/abhijeetburagohain/spacy_env/venv/lib/python3.10/site-packages/xgboost/training.py:183: UserWarning: [18:39:07] WARNING: /Users/runner/work/xgboost/xgboost/src/learner.cc:738: \n",
      "Parameters: { \"use_label_encoder\" } are not used.\n",
      "\n",
      "  bst.update(dtrain, iteration=i, fobj=obj)\n",
      "/Users/abhijeetburagohain/spacy_env/venv/lib/python3.10/site-packages/xgboost/training.py:183: UserWarning: [18:39:07] WARNING: /Users/runner/work/xgboost/xgboost/src/learner.cc:738: \n",
      "Parameters: { \"use_label_encoder\" } are not used.\n",
      "\n",
      "  bst.update(dtrain, iteration=i, fobj=obj)\n",
      "/Users/abhijeetburagohain/spacy_env/venv/lib/python3.10/site-packages/xgboost/training.py:183: UserWarning: [18:39:07] WARNING: /Users/runner/work/xgboost/xgboost/src/learner.cc:738: \n",
      "Parameters: { \"use_label_encoder\" } are not used.\n",
      "\n",
      "  bst.update(dtrain, iteration=i, fobj=obj)\n",
      "/Users/abhijeetburagohain/spacy_env/venv/lib/python3.10/site-packages/xgboost/training.py:183: UserWarning: [18:39:07] WARNING: /Users/runner/work/xgboost/xgboost/src/learner.cc:738: \n",
      "Parameters: { \"use_label_encoder\" } are not used.\n",
      "\n",
      "  bst.update(dtrain, iteration=i, fobj=obj)\n"
     ]
    },
    {
     "name": "stdout",
     "output_type": "stream",
     "text": [
      "[CV] END xgb__colsample_bytree=0.749816047538945, xgb__gamma=0.9507143064099162, xgb__learning_rate=0.15639878836228102, xgb__max_depth=7, xgb__min_child_weight=5, xgb__n_estimators=202, xgb__reg_alpha=0.44583275285359114, xgb__reg_lambda=0.09997491581800289, xgb__subsample=0.7836995567863468; total time= 1.3min\n",
      "[CV] END xgb__colsample_bytree=0.749816047538945, xgb__gamma=0.9507143064099162, xgb__learning_rate=0.15639878836228102, xgb__max_depth=7, xgb__min_child_weight=5, xgb__n_estimators=202, xgb__reg_alpha=0.44583275285359114, xgb__reg_lambda=0.09997491581800289, xgb__subsample=0.7836995567863468; total time= 1.3min\n"
     ]
    },
    {
     "name": "stderr",
     "output_type": "stream",
     "text": [
      "/Users/abhijeetburagohain/spacy_env/venv/lib/python3.10/site-packages/xgboost/training.py:183: UserWarning: [18:40:24] WARNING: /Users/runner/work/xgboost/xgboost/src/learner.cc:738: \n",
      "Parameters: { \"use_label_encoder\" } are not used.\n",
      "\n",
      "  bst.update(dtrain, iteration=i, fobj=obj)\n"
     ]
    },
    {
     "name": "stdout",
     "output_type": "stream",
     "text": [
      "[CV] END xgb__colsample_bytree=0.749816047538945, xgb__gamma=0.9507143064099162, xgb__learning_rate=0.15639878836228102, xgb__max_depth=7, xgb__min_child_weight=5, xgb__n_estimators=202, xgb__reg_alpha=0.44583275285359114, xgb__reg_lambda=0.09997491581800289, xgb__subsample=0.7836995567863468; total time= 1.3min\n",
      "[CV] END xgb__colsample_bytree=0.749816047538945, xgb__gamma=0.9507143064099162, xgb__learning_rate=0.15639878836228102, xgb__max_depth=7, xgb__min_child_weight=5, xgb__n_estimators=202, xgb__reg_alpha=0.44583275285359114, xgb__reg_lambda=0.09997491581800289, xgb__subsample=0.7836995567863468; total time= 1.3min\n"
     ]
    },
    {
     "name": "stderr",
     "output_type": "stream",
     "text": [
      "/Users/abhijeetburagohain/spacy_env/venv/lib/python3.10/site-packages/xgboost/training.py:183: UserWarning: [18:40:25] WARNING: /Users/runner/work/xgboost/xgboost/src/learner.cc:738: \n",
      "Parameters: { \"use_label_encoder\" } are not used.\n",
      "\n",
      "  bst.update(dtrain, iteration=i, fobj=obj)\n",
      "/Users/abhijeetburagohain/spacy_env/venv/lib/python3.10/site-packages/xgboost/training.py:183: UserWarning: [18:40:26] WARNING: /Users/runner/work/xgboost/xgboost/src/learner.cc:738: \n",
      "Parameters: { \"use_label_encoder\" } are not used.\n",
      "\n",
      "  bst.update(dtrain, iteration=i, fobj=obj)\n",
      "/Users/abhijeetburagohain/spacy_env/venv/lib/python3.10/site-packages/xgboost/training.py:183: UserWarning: [18:40:26] WARNING: /Users/runner/work/xgboost/xgboost/src/learner.cc:738: \n",
      "Parameters: { \"use_label_encoder\" } are not used.\n",
      "\n",
      "  bst.update(dtrain, iteration=i, fobj=obj)\n"
     ]
    },
    {
     "name": "stdout",
     "output_type": "stream",
     "text": [
      "[CV] END xgb__colsample_bytree=0.749816047538945, xgb__gamma=0.9507143064099162, xgb__learning_rate=0.15639878836228102, xgb__max_depth=7, xgb__min_child_weight=5, xgb__n_estimators=202, xgb__reg_alpha=0.44583275285359114, xgb__reg_lambda=0.09997491581800289, xgb__subsample=0.7836995567863468; total time= 1.2min\n"
     ]
    },
    {
     "name": "stderr",
     "output_type": "stream",
     "text": [
      "/Users/abhijeetburagohain/spacy_env/venv/lib/python3.10/site-packages/xgboost/training.py:183: UserWarning: [18:41:38] WARNING: /Users/runner/work/xgboost/xgboost/src/learner.cc:738: \n",
      "Parameters: { \"use_label_encoder\" } are not used.\n",
      "\n",
      "  bst.update(dtrain, iteration=i, fobj=obj)\n"
     ]
    },
    {
     "name": "stdout",
     "output_type": "stream",
     "text": [
      "[CV] END xgb__colsample_bytree=0.7334834444556088, xgb__gamma=0.14286681792194078, xgb__learning_rate=0.14017769458977059, xgb__max_depth=7, xgb__min_child_weight=2, xgb__n_estimators=187, xgb__reg_alpha=0.8324426408004217, xgb__reg_lambda=0.21233911067827616, xgb__subsample=0.6727299868828402; total time= 1.9min\n",
      "[CV] END xgb__colsample_bytree=0.7334834444556088, xgb__gamma=0.14286681792194078, xgb__learning_rate=0.14017769458977059, xgb__max_depth=7, xgb__min_child_weight=2, xgb__n_estimators=187, xgb__reg_alpha=0.8324426408004217, xgb__reg_lambda=0.21233911067827616, xgb__subsample=0.6727299868828402; total time= 1.9min\n",
      "[CV] END xgb__colsample_bytree=0.7334834444556088, xgb__gamma=0.14286681792194078, xgb__learning_rate=0.14017769458977059, xgb__max_depth=7, xgb__min_child_weight=2, xgb__n_estimators=187, xgb__reg_alpha=0.8324426408004217, xgb__reg_lambda=0.21233911067827616, xgb__subsample=0.6727299868828402; total time= 1.9min\n"
     ]
    },
    {
     "name": "stderr",
     "output_type": "stream",
     "text": [
      "/Users/abhijeetburagohain/spacy_env/venv/lib/python3.10/site-packages/xgboost/training.py:183: UserWarning: [18:42:22] WARNING: /Users/runner/work/xgboost/xgboost/src/learner.cc:738: \n",
      "Parameters: { \"use_label_encoder\" } are not used.\n",
      "\n",
      "  bst.update(dtrain, iteration=i, fobj=obj)\n",
      "/Users/abhijeetburagohain/spacy_env/venv/lib/python3.10/site-packages/xgboost/training.py:183: UserWarning: [18:42:22] WARNING: /Users/runner/work/xgboost/xgboost/src/learner.cc:738: \n",
      "Parameters: { \"use_label_encoder\" } are not used.\n",
      "\n",
      "  bst.update(dtrain, iteration=i, fobj=obj)\n",
      "/Users/abhijeetburagohain/spacy_env/venv/lib/python3.10/site-packages/xgboost/training.py:183: UserWarning: [18:42:22] WARNING: /Users/runner/work/xgboost/xgboost/src/learner.cc:738: \n",
      "Parameters: { \"use_label_encoder\" } are not used.\n",
      "\n",
      "  bst.update(dtrain, iteration=i, fobj=obj)\n"
     ]
    },
    {
     "name": "stdout",
     "output_type": "stream",
     "text": [
      "[CV] END xgb__colsample_bytree=0.6733618039413735, xgb__gamma=0.3042422429595377, xgb__learning_rate=0.11495128632644756, xgb__max_depth=6, xgb__min_child_weight=9, xgb__n_estimators=148, xgb__reg_alpha=0.5247746602583891, xgb__reg_lambda=0.3998609717152555, xgb__subsample=0.6186662652854461; total time=  53.3s\n"
     ]
    },
    {
     "name": "stderr",
     "output_type": "stream",
     "text": [
      "/Users/abhijeetburagohain/spacy_env/venv/lib/python3.10/site-packages/xgboost/training.py:183: UserWarning: [18:43:16] WARNING: /Users/runner/work/xgboost/xgboost/src/learner.cc:738: \n",
      "Parameters: { \"use_label_encoder\" } are not used.\n",
      "\n",
      "  bst.update(dtrain, iteration=i, fobj=obj)\n"
     ]
    },
    {
     "name": "stdout",
     "output_type": "stream",
     "text": [
      "[CV] END xgb__colsample_bytree=0.6733618039413735, xgb__gamma=0.3042422429595377, xgb__learning_rate=0.11495128632644756, xgb__max_depth=6, xgb__min_child_weight=9, xgb__n_estimators=148, xgb__reg_alpha=0.5247746602583891, xgb__reg_lambda=0.3998609717152555, xgb__subsample=0.6186662652854461; total time=  54.8s\n"
     ]
    },
    {
     "name": "stderr",
     "output_type": "stream",
     "text": [
      "/Users/abhijeetburagohain/spacy_env/venv/lib/python3.10/site-packages/xgboost/training.py:183: UserWarning: [18:43:17] WARNING: /Users/runner/work/xgboost/xgboost/src/learner.cc:738: \n",
      "Parameters: { \"use_label_encoder\" } are not used.\n",
      "\n",
      "  bst.update(dtrain, iteration=i, fobj=obj)\n"
     ]
    },
    {
     "name": "stdout",
     "output_type": "stream",
     "text": [
      "[CV] END xgb__colsample_bytree=0.7334834444556088, xgb__gamma=0.14286681792194078, xgb__learning_rate=0.14017769458977059, xgb__max_depth=7, xgb__min_child_weight=2, xgb__n_estimators=187, xgb__reg_alpha=0.8324426408004217, xgb__reg_lambda=0.21233911067827616, xgb__subsample=0.6727299868828402; total time= 1.9min\n"
     ]
    },
    {
     "name": "stderr",
     "output_type": "stream",
     "text": [
      "/Users/abhijeetburagohain/spacy_env/venv/lib/python3.10/site-packages/xgboost/training.py:183: UserWarning: [18:43:31] WARNING: /Users/runner/work/xgboost/xgboost/src/learner.cc:738: \n",
      "Parameters: { \"use_label_encoder\" } are not used.\n",
      "\n",
      "  bst.update(dtrain, iteration=i, fobj=obj)\n"
     ]
    },
    {
     "name": "stdout",
     "output_type": "stream",
     "text": [
      "[CV] END xgb__colsample_bytree=0.6733618039413735, xgb__gamma=0.3042422429595377, xgb__learning_rate=0.11495128632644756, xgb__max_depth=6, xgb__min_child_weight=9, xgb__n_estimators=148, xgb__reg_alpha=0.5247746602583891, xgb__reg_lambda=0.3998609717152555, xgb__subsample=0.6186662652854461; total time=  54.1s\n"
     ]
    },
    {
     "name": "stderr",
     "output_type": "stream",
     "text": [
      "/Users/abhijeetburagohain/spacy_env/venv/lib/python3.10/site-packages/xgboost/training.py:183: UserWarning: [18:44:10] WARNING: /Users/runner/work/xgboost/xgboost/src/learner.cc:738: \n",
      "Parameters: { \"use_label_encoder\" } are not used.\n",
      "\n",
      "  bst.update(dtrain, iteration=i, fobj=obj)\n"
     ]
    },
    {
     "name": "stdout",
     "output_type": "stream",
     "text": [
      "[CV] END xgb__colsample_bytree=0.6733618039413735, xgb__gamma=0.3042422429595377, xgb__learning_rate=0.11495128632644756, xgb__max_depth=6, xgb__min_child_weight=9, xgb__n_estimators=148, xgb__reg_alpha=0.5247746602583891, xgb__reg_lambda=0.3998609717152555, xgb__subsample=0.6186662652854461; total time=  54.5s\n"
     ]
    },
    {
     "name": "stderr",
     "output_type": "stream",
     "text": [
      "/Users/abhijeetburagohain/spacy_env/venv/lib/python3.10/site-packages/xgboost/training.py:183: UserWarning: [18:44:12] WARNING: /Users/runner/work/xgboost/xgboost/src/learner.cc:738: \n",
      "Parameters: { \"use_label_encoder\" } are not used.\n",
      "\n",
      "  bst.update(dtrain, iteration=i, fobj=obj)\n"
     ]
    },
    {
     "name": "stdout",
     "output_type": "stream",
     "text": [
      "[CV] END xgb__colsample_bytree=0.7334834444556088, xgb__gamma=0.14286681792194078, xgb__learning_rate=0.14017769458977059, xgb__max_depth=7, xgb__min_child_weight=2, xgb__n_estimators=187, xgb__reg_alpha=0.8324426408004217, xgb__reg_lambda=0.21233911067827616, xgb__subsample=0.6727299868828402; total time= 2.0min\n"
     ]
    },
    {
     "name": "stderr",
     "output_type": "stream",
     "text": [
      "/Users/abhijeetburagohain/spacy_env/venv/lib/python3.10/site-packages/xgboost/training.py:183: UserWarning: [18:44:19] WARNING: /Users/runner/work/xgboost/xgboost/src/learner.cc:738: \n",
      "Parameters: { \"use_label_encoder\" } are not used.\n",
      "\n",
      "  bst.update(dtrain, iteration=i, fobj=obj)\n"
     ]
    },
    {
     "name": "stdout",
     "output_type": "stream",
     "text": [
      "[CV] END xgb__colsample_bytree=0.6733618039413735, xgb__gamma=0.3042422429595377, xgb__learning_rate=0.11495128632644756, xgb__max_depth=6, xgb__min_child_weight=9, xgb__n_estimators=148, xgb__reg_alpha=0.5247746602583891, xgb__reg_lambda=0.3998609717152555, xgb__subsample=0.6186662652854461; total time=  54.7s\n"
     ]
    },
    {
     "name": "stderr",
     "output_type": "stream",
     "text": [
      "/Users/abhijeetburagohain/spacy_env/venv/lib/python3.10/site-packages/xgboost/training.py:183: UserWarning: [18:44:26] WARNING: /Users/runner/work/xgboost/xgboost/src/learner.cc:738: \n",
      "Parameters: { \"use_label_encoder\" } are not used.\n",
      "\n",
      "  bst.update(dtrain, iteration=i, fobj=obj)\n"
     ]
    },
    {
     "name": "stdout",
     "output_type": "stream",
     "text": [
      "[CV] END xgb__colsample_bytree=0.9895022075365837, xgb__gamma=0.23277134043030423, xgb__learning_rate=0.02812128690656416, xgb__max_depth=8, xgb__min_child_weight=3, xgb__n_estimators=207, xgb__reg_alpha=0.5142344384136116, xgb__reg_lambda=0.5924145688620425, xgb__subsample=0.6185801650879991; total time= 4.4min\n"
     ]
    },
    {
     "name": "stderr",
     "output_type": "stream",
     "text": [
      "/Users/abhijeetburagohain/spacy_env/venv/lib/python3.10/site-packages/xgboost/training.py:183: UserWarning: [18:48:35] WARNING: /Users/runner/work/xgboost/xgboost/src/learner.cc:738: \n",
      "Parameters: { \"use_label_encoder\" } are not used.\n",
      "\n",
      "  bst.update(dtrain, iteration=i, fobj=obj)\n"
     ]
    },
    {
     "name": "stdout",
     "output_type": "stream",
     "text": [
      "[CV] END xgb__colsample_bytree=0.9895022075365837, xgb__gamma=0.23277134043030423, xgb__learning_rate=0.02812128690656416, xgb__max_depth=8, xgb__min_child_weight=3, xgb__n_estimators=207, xgb__reg_alpha=0.5142344384136116, xgb__reg_lambda=0.5924145688620425, xgb__subsample=0.6185801650879991; total time= 4.4min\n"
     ]
    },
    {
     "name": "stderr",
     "output_type": "stream",
     "text": [
      "/Users/abhijeetburagohain/spacy_env/venv/lib/python3.10/site-packages/xgboost/training.py:183: UserWarning: [18:48:41] WARNING: /Users/runner/work/xgboost/xgboost/src/learner.cc:738: \n",
      "Parameters: { \"use_label_encoder\" } are not used.\n",
      "\n",
      "  bst.update(dtrain, iteration=i, fobj=obj)\n"
     ]
    },
    {
     "name": "stdout",
     "output_type": "stream",
     "text": [
      "[CV] END xgb__colsample_bytree=0.9895022075365837, xgb__gamma=0.23277134043030423, xgb__learning_rate=0.02812128690656416, xgb__max_depth=8, xgb__min_child_weight=3, xgb__n_estimators=207, xgb__reg_alpha=0.5142344384136116, xgb__reg_lambda=0.5924145688620425, xgb__subsample=0.6185801650879991; total time= 4.6min\n"
     ]
    },
    {
     "name": "stderr",
     "output_type": "stream",
     "text": [
      "/Users/abhijeetburagohain/spacy_env/venv/lib/python3.10/site-packages/xgboost/training.py:183: UserWarning: [18:48:44] WARNING: /Users/runner/work/xgboost/xgboost/src/learner.cc:738: \n",
      "Parameters: { \"use_label_encoder\" } are not used.\n",
      "\n",
      "  bst.update(dtrain, iteration=i, fobj=obj)\n"
     ]
    },
    {
     "name": "stdout",
     "output_type": "stream",
     "text": [
      "[CV] END xgb__colsample_bytree=0.9895022075365837, xgb__gamma=0.23277134043030423, xgb__learning_rate=0.02812128690656416, xgb__max_depth=8, xgb__min_child_weight=3, xgb__n_estimators=207, xgb__reg_alpha=0.5142344384136116, xgb__reg_lambda=0.5924145688620425, xgb__subsample=0.6185801650879991; total time= 4.4min\n"
     ]
    },
    {
     "name": "stderr",
     "output_type": "stream",
     "text": [
      "/Users/abhijeetburagohain/spacy_env/venv/lib/python3.10/site-packages/xgboost/training.py:183: UserWarning: [18:48:49] WARNING: /Users/runner/work/xgboost/xgboost/src/learner.cc:738: \n",
      "Parameters: { \"use_label_encoder\" } are not used.\n",
      "\n",
      "  bst.update(dtrain, iteration=i, fobj=obj)\n"
     ]
    },
    {
     "name": "stdout",
     "output_type": "stream",
     "text": [
      "[CV] END xgb__colsample_bytree=0.8430179407605753, xgb__gamma=0.17052412368729153, xgb__learning_rate=0.023010318597055907, xgb__max_depth=6, xgb__min_child_weight=9, xgb__n_estimators=159, xgb__reg_alpha=0.5632882178455393, xgb__reg_lambda=0.3854165025399161, xgb__subsample=0.6063865008880857; total time= 1.7min\n",
      "[CV] END xgb__colsample_bytree=0.8430179407605753, xgb__gamma=0.17052412368729153, xgb__learning_rate=0.023010318597055907, xgb__max_depth=6, xgb__min_child_weight=9, xgb__n_estimators=159, xgb__reg_alpha=0.5632882178455393, xgb__reg_lambda=0.3854165025399161, xgb__subsample=0.6063865008880857; total time= 1.7min\n"
     ]
    },
    {
     "name": "stderr",
     "output_type": "stream",
     "text": [
      "/Users/abhijeetburagohain/spacy_env/venv/lib/python3.10/site-packages/xgboost/training.py:183: UserWarning: [18:50:25] WARNING: /Users/runner/work/xgboost/xgboost/src/learner.cc:738: \n",
      "Parameters: { \"use_label_encoder\" } are not used.\n",
      "\n",
      "  bst.update(dtrain, iteration=i, fobj=obj)\n",
      "/Users/abhijeetburagohain/spacy_env/venv/lib/python3.10/site-packages/xgboost/training.py:183: UserWarning: [18:50:26] WARNING: /Users/runner/work/xgboost/xgboost/src/learner.cc:738: \n",
      "Parameters: { \"use_label_encoder\" } are not used.\n",
      "\n",
      "  bst.update(dtrain, iteration=i, fobj=obj)\n"
     ]
    },
    {
     "name": "stdout",
     "output_type": "stream",
     "text": [
      "[CV] END xgb__colsample_bytree=0.8430179407605753, xgb__gamma=0.17052412368729153, xgb__learning_rate=0.023010318597055907, xgb__max_depth=6, xgb__min_child_weight=9, xgb__n_estimators=159, xgb__reg_alpha=0.5632882178455393, xgb__reg_lambda=0.3854165025399161, xgb__subsample=0.6063865008880857; total time= 1.7min\n"
     ]
    },
    {
     "name": "stderr",
     "output_type": "stream",
     "text": [
      "/Users/abhijeetburagohain/spacy_env/venv/lib/python3.10/site-packages/xgboost/training.py:183: UserWarning: [18:50:30] WARNING: /Users/runner/work/xgboost/xgboost/src/learner.cc:738: \n",
      "Parameters: { \"use_label_encoder\" } are not used.\n",
      "\n",
      "  bst.update(dtrain, iteration=i, fobj=obj)\n"
     ]
    },
    {
     "name": "stdout",
     "output_type": "stream",
     "text": [
      "[CV] END xgb__colsample_bytree=0.6923575302488596, xgb__gamma=0.24102546602601171, xgb__learning_rate=0.14665270376509165, xgb__max_depth=6, xgb__min_child_weight=8, xgb__n_estimators=274, xgb__reg_alpha=0.17336465350777208, xgb__reg_lambda=0.3910606075732408, xgb__subsample=0.672894435115225; total time= 1.3min\n"
     ]
    },
    {
     "name": "stderr",
     "output_type": "stream",
     "text": [
      "/Users/abhijeetburagohain/spacy_env/venv/lib/python3.10/site-packages/xgboost/training.py:183: UserWarning: [18:51:45] WARNING: /Users/runner/work/xgboost/xgboost/src/learner.cc:738: \n",
      "Parameters: { \"use_label_encoder\" } are not used.\n",
      "\n",
      "  bst.update(dtrain, iteration=i, fobj=obj)\n"
     ]
    },
    {
     "name": "stdout",
     "output_type": "stream",
     "text": [
      "[CV] END xgb__colsample_bytree=0.8430179407605753, xgb__gamma=0.17052412368729153, xgb__learning_rate=0.023010318597055907, xgb__max_depth=6, xgb__min_child_weight=9, xgb__n_estimators=159, xgb__reg_alpha=0.5632882178455393, xgb__reg_lambda=0.3854165025399161, xgb__subsample=0.6063865008880857; total time= 1.5min\n"
     ]
    },
    {
     "name": "stderr",
     "output_type": "stream",
     "text": [
      "/Users/abhijeetburagohain/spacy_env/venv/lib/python3.10/site-packages/xgboost/training.py:183: UserWarning: [18:51:56] WARNING: /Users/runner/work/xgboost/xgboost/src/learner.cc:738: \n",
      "Parameters: { \"use_label_encoder\" } are not used.\n",
      "\n",
      "  bst.update(dtrain, iteration=i, fobj=obj)\n"
     ]
    },
    {
     "name": "stdout",
     "output_type": "stream",
     "text": [
      "[CV] END xgb__colsample_bytree=0.8430179407605753, xgb__gamma=0.17052412368729153, xgb__learning_rate=0.023010318597055907, xgb__max_depth=6, xgb__min_child_weight=9, xgb__n_estimators=159, xgb__reg_alpha=0.5632882178455393, xgb__reg_lambda=0.3854165025399161, xgb__subsample=0.6063865008880857; total time= 1.6min\n"
     ]
    },
    {
     "name": "stderr",
     "output_type": "stream",
     "text": [
      "/Users/abhijeetburagohain/spacy_env/venv/lib/python3.10/site-packages/xgboost/training.py:183: UserWarning: [18:52:00] WARNING: /Users/runner/work/xgboost/xgboost/src/learner.cc:738: \n",
      "Parameters: { \"use_label_encoder\" } are not used.\n",
      "\n",
      "  bst.update(dtrain, iteration=i, fobj=obj)\n"
     ]
    },
    {
     "name": "stdout",
     "output_type": "stream",
     "text": [
      "[CV] END xgb__colsample_bytree=0.6923575302488596, xgb__gamma=0.24102546602601171, xgb__learning_rate=0.14665270376509165, xgb__max_depth=6, xgb__min_child_weight=8, xgb__n_estimators=274, xgb__reg_alpha=0.17336465350777208, xgb__reg_lambda=0.3910606075732408, xgb__subsample=0.672894435115225; total time= 1.2min\n"
     ]
    },
    {
     "name": "stderr",
     "output_type": "stream",
     "text": [
      "/Users/abhijeetburagohain/spacy_env/venv/lib/python3.10/site-packages/xgboost/training.py:183: UserWarning: [18:52:59] WARNING: /Users/runner/work/xgboost/xgboost/src/learner.cc:738: \n",
      "Parameters: { \"use_label_encoder\" } are not used.\n",
      "\n",
      "  bst.update(dtrain, iteration=i, fobj=obj)\n"
     ]
    },
    {
     "name": "stdout",
     "output_type": "stream",
     "text": [
      "[CV] END xgb__colsample_bytree=0.9895022075365837, xgb__gamma=0.23277134043030423, xgb__learning_rate=0.02812128690656416, xgb__max_depth=8, xgb__min_child_weight=3, xgb__n_estimators=207, xgb__reg_alpha=0.5142344384136116, xgb__reg_lambda=0.5924145688620425, xgb__subsample=0.6185801650879991; total time= 4.5min\n"
     ]
    },
    {
     "name": "stderr",
     "output_type": "stream",
     "text": [
      "/Users/abhijeetburagohain/spacy_env/venv/lib/python3.10/site-packages/xgboost/training.py:183: UserWarning: [18:53:04] WARNING: /Users/runner/work/xgboost/xgboost/src/learner.cc:738: \n",
      "Parameters: { \"use_label_encoder\" } are not used.\n",
      "\n",
      "  bst.update(dtrain, iteration=i, fobj=obj)\n"
     ]
    },
    {
     "name": "stdout",
     "output_type": "stream",
     "text": [
      "[CV] END xgb__colsample_bytree=0.6923575302488596, xgb__gamma=0.24102546602601171, xgb__learning_rate=0.14665270376509165, xgb__max_depth=6, xgb__min_child_weight=8, xgb__n_estimators=274, xgb__reg_alpha=0.17336465350777208, xgb__reg_lambda=0.3910606075732408, xgb__subsample=0.672894435115225; total time= 1.2min\n"
     ]
    },
    {
     "name": "stderr",
     "output_type": "stream",
     "text": [
      "/Users/abhijeetburagohain/spacy_env/venv/lib/python3.10/site-packages/xgboost/training.py:183: UserWarning: [18:53:10] WARNING: /Users/runner/work/xgboost/xgboost/src/learner.cc:738: \n",
      "Parameters: { \"use_label_encoder\" } are not used.\n",
      "\n",
      "  bst.update(dtrain, iteration=i, fobj=obj)\n"
     ]
    },
    {
     "name": "stdout",
     "output_type": "stream",
     "text": [
      "[CV] END xgb__colsample_bytree=0.6923575302488596, xgb__gamma=0.24102546602601171, xgb__learning_rate=0.14665270376509165, xgb__max_depth=6, xgb__min_child_weight=8, xgb__n_estimators=274, xgb__reg_alpha=0.17336465350777208, xgb__reg_lambda=0.3910606075732408, xgb__subsample=0.672894435115225; total time= 1.2min\n"
     ]
    },
    {
     "name": "stderr",
     "output_type": "stream",
     "text": [
      "/Users/abhijeetburagohain/spacy_env/venv/lib/python3.10/site-packages/xgboost/training.py:183: UserWarning: [18:53:14] WARNING: /Users/runner/work/xgboost/xgboost/src/learner.cc:738: \n",
      "Parameters: { \"use_label_encoder\" } are not used.\n",
      "\n",
      "  bst.update(dtrain, iteration=i, fobj=obj)\n"
     ]
    },
    {
     "name": "stdout",
     "output_type": "stream",
     "text": [
      "[CV] END xgb__colsample_bytree=0.6923575302488596, xgb__gamma=0.24102546602601171, xgb__learning_rate=0.14665270376509165, xgb__max_depth=6, xgb__min_child_weight=8, xgb__n_estimators=274, xgb__reg_alpha=0.17336465350777208, xgb__reg_lambda=0.3910606075732408, xgb__subsample=0.672894435115225; total time= 1.2min\n"
     ]
    },
    {
     "name": "stderr",
     "output_type": "stream",
     "text": [
      "/Users/abhijeetburagohain/spacy_env/venv/lib/python3.10/site-packages/xgboost/training.py:183: UserWarning: [18:54:11] WARNING: /Users/runner/work/xgboost/xgboost/src/learner.cc:738: \n",
      "Parameters: { \"use_label_encoder\" } are not used.\n",
      "\n",
      "  bst.update(dtrain, iteration=i, fobj=obj)\n"
     ]
    },
    {
     "name": "stdout",
     "output_type": "stream",
     "text": [
      "[CV] END xgb__colsample_bytree=0.902144564127061, xgb__gamma=0.4251558744912447, xgb__learning_rate=0.05158833257363777, xgb__max_depth=6, xgb__min_child_weight=6, xgb__n_estimators=290, xgb__reg_alpha=0.8422847745949985, xgb__reg_lambda=0.44975413336976566, xgb__subsample=0.7580600944007257; total time= 2.0min\n"
     ]
    },
    {
     "name": "stderr",
     "output_type": "stream",
     "text": [
      "/Users/abhijeetburagohain/spacy_env/venv/lib/python3.10/site-packages/xgboost/training.py:183: UserWarning: [18:55:05] WARNING: /Users/runner/work/xgboost/xgboost/src/learner.cc:738: \n",
      "Parameters: { \"use_label_encoder\" } are not used.\n",
      "\n",
      "  bst.update(dtrain, iteration=i, fobj=obj)\n"
     ]
    },
    {
     "name": "stdout",
     "output_type": "stream",
     "text": [
      "[CV] END xgb__colsample_bytree=0.902144564127061, xgb__gamma=0.4251558744912447, xgb__learning_rate=0.05158833257363777, xgb__max_depth=6, xgb__min_child_weight=6, xgb__n_estimators=290, xgb__reg_alpha=0.8422847745949985, xgb__reg_lambda=0.44975413336976566, xgb__subsample=0.7580600944007257; total time= 2.0min\n"
     ]
    },
    {
     "name": "stderr",
     "output_type": "stream",
     "text": [
      "/Users/abhijeetburagohain/spacy_env/venv/lib/python3.10/site-packages/xgboost/training.py:183: UserWarning: [18:55:09] WARNING: /Users/runner/work/xgboost/xgboost/src/learner.cc:738: \n",
      "Parameters: { \"use_label_encoder\" } are not used.\n",
      "\n",
      "  bst.update(dtrain, iteration=i, fobj=obj)\n"
     ]
    },
    {
     "name": "stdout",
     "output_type": "stream",
     "text": [
      "[CV] END xgb__colsample_bytree=0.902144564127061, xgb__gamma=0.4251558744912447, xgb__learning_rate=0.05158833257363777, xgb__max_depth=6, xgb__min_child_weight=6, xgb__n_estimators=290, xgb__reg_alpha=0.8422847745949985, xgb__reg_lambda=0.44975413336976566, xgb__subsample=0.7580600944007257; total time= 2.0min\n"
     ]
    },
    {
     "name": "stderr",
     "output_type": "stream",
     "text": [
      "/Users/abhijeetburagohain/spacy_env/venv/lib/python3.10/site-packages/xgboost/training.py:183: UserWarning: [18:55:13] WARNING: /Users/runner/work/xgboost/xgboost/src/learner.cc:738: \n",
      "Parameters: { \"use_label_encoder\" } are not used.\n",
      "\n",
      "  bst.update(dtrain, iteration=i, fobj=obj)\n"
     ]
    },
    {
     "name": "stdout",
     "output_type": "stream",
     "text": [
      "[CV] END xgb__colsample_bytree=0.902144564127061, xgb__gamma=0.4251558744912447, xgb__learning_rate=0.05158833257363777, xgb__max_depth=6, xgb__min_child_weight=6, xgb__n_estimators=290, xgb__reg_alpha=0.8422847745949985, xgb__reg_lambda=0.44975413336976566, xgb__subsample=0.7580600944007257; total time= 2.0min\n"
     ]
    },
    {
     "name": "stderr",
     "output_type": "stream",
     "text": [
      "/Users/abhijeetburagohain/spacy_env/venv/lib/python3.10/site-packages/xgboost/training.py:183: UserWarning: [18:56:08] WARNING: /Users/runner/work/xgboost/xgboost/src/learner.cc:738: \n",
      "Parameters: { \"use_label_encoder\" } are not used.\n",
      "\n",
      "  bst.update(dtrain, iteration=i, fobj=obj)\n"
     ]
    },
    {
     "name": "stdout",
     "output_type": "stream",
     "text": [
      "[CV] END xgb__colsample_bytree=0.902144564127061, xgb__gamma=0.4251558744912447, xgb__learning_rate=0.05158833257363777, xgb__max_depth=6, xgb__min_child_weight=6, xgb__n_estimators=290, xgb__reg_alpha=0.8422847745949985, xgb__reg_lambda=0.44975413336976566, xgb__subsample=0.7580600944007257; total time= 2.0min\n"
     ]
    },
    {
     "name": "stderr",
     "output_type": "stream",
     "text": [
      "/Users/abhijeetburagohain/spacy_env/venv/lib/python3.10/site-packages/xgboost/training.py:183: UserWarning: [18:57:05] WARNING: /Users/runner/work/xgboost/xgboost/src/learner.cc:738: \n",
      "Parameters: { \"use_label_encoder\" } are not used.\n",
      "\n",
      "  bst.update(dtrain, iteration=i, fobj=obj)\n"
     ]
    },
    {
     "name": "stdout",
     "output_type": "stream",
     "text": [
      "[CV] END xgb__colsample_bytree=0.9706635463175177, xgb__gamma=0.7272719958564209, xgb__learning_rate=0.07530815376116708, xgb__max_depth=8, xgb__min_child_weight=7, xgb__n_estimators=289, xgb__reg_alpha=0.32533033076326434, xgb__reg_lambda=0.388677289689482, xgb__subsample=0.7085396127095583; total time= 2.3min\n",
      "[CV] END xgb__colsample_bytree=0.9706635463175177, xgb__gamma=0.7272719958564209, xgb__learning_rate=0.07530815376116708, xgb__max_depth=8, xgb__min_child_weight=7, xgb__n_estimators=289, xgb__reg_alpha=0.32533033076326434, xgb__reg_lambda=0.388677289689482, xgb__subsample=0.7085396127095583; total time= 2.3min\n"
     ]
    },
    {
     "name": "stderr",
     "output_type": "stream",
     "text": [
      "/Users/abhijeetburagohain/spacy_env/venv/lib/python3.10/site-packages/xgboost/training.py:183: UserWarning: [18:57:28] WARNING: /Users/runner/work/xgboost/xgboost/src/learner.cc:738: \n",
      "Parameters: { \"use_label_encoder\" } are not used.\n",
      "\n",
      "  bst.update(dtrain, iteration=i, fobj=obj)\n",
      "/Users/abhijeetburagohain/spacy_env/venv/lib/python3.10/site-packages/xgboost/training.py:183: UserWarning: [18:57:29] WARNING: /Users/runner/work/xgboost/xgboost/src/learner.cc:738: \n",
      "Parameters: { \"use_label_encoder\" } are not used.\n",
      "\n",
      "  bst.update(dtrain, iteration=i, fobj=obj)\n"
     ]
    },
    {
     "name": "stdout",
     "output_type": "stream",
     "text": [
      "[CV] END xgb__colsample_bytree=0.9706635463175177, xgb__gamma=0.7272719958564209, xgb__learning_rate=0.07530815376116708, xgb__max_depth=8, xgb__min_child_weight=7, xgb__n_estimators=289, xgb__reg_alpha=0.32533033076326434, xgb__reg_lambda=0.388677289689482, xgb__subsample=0.7085396127095583; total time= 2.2min\n"
     ]
    },
    {
     "name": "stderr",
     "output_type": "stream",
     "text": [
      "/Users/abhijeetburagohain/spacy_env/venv/lib/python3.10/site-packages/xgboost/training.py:183: UserWarning: [18:58:22] WARNING: /Users/runner/work/xgboost/xgboost/src/learner.cc:738: \n",
      "Parameters: { \"use_label_encoder\" } are not used.\n",
      "\n",
      "  bst.update(dtrain, iteration=i, fobj=obj)\n"
     ]
    },
    {
     "name": "stdout",
     "output_type": "stream",
     "text": [
      "[CV] END xgb__colsample_bytree=0.9314950036607718, xgb__gamma=0.3567533266935893, xgb__learning_rate=0.06618690193747616, xgb__max_depth=6, xgb__min_child_weight=9, xgb__n_estimators=256, xgb__reg_alpha=0.8021969807540397, xgb__reg_lambda=0.07455064367977082, xgb__subsample=0.9947547746402069; total time= 1.6min\n"
     ]
    },
    {
     "name": "stderr",
     "output_type": "stream",
     "text": [
      "/Users/abhijeetburagohain/spacy_env/venv/lib/python3.10/site-packages/xgboost/training.py:183: UserWarning: [18:59:07] WARNING: /Users/runner/work/xgboost/xgboost/src/learner.cc:738: \n",
      "Parameters: { \"use_label_encoder\" } are not used.\n",
      "\n",
      "  bst.update(dtrain, iteration=i, fobj=obj)\n"
     ]
    },
    {
     "name": "stdout",
     "output_type": "stream",
     "text": [
      "[CV] END xgb__colsample_bytree=0.9706635463175177, xgb__gamma=0.7272719958564209, xgb__learning_rate=0.07530815376116708, xgb__max_depth=8, xgb__min_child_weight=7, xgb__n_estimators=289, xgb__reg_alpha=0.32533033076326434, xgb__reg_lambda=0.388677289689482, xgb__subsample=0.7085396127095583; total time= 2.3min\n"
     ]
    },
    {
     "name": "stderr",
     "output_type": "stream",
     "text": [
      "/Users/abhijeetburagohain/spacy_env/venv/lib/python3.10/site-packages/xgboost/training.py:183: UserWarning: [18:59:22] WARNING: /Users/runner/work/xgboost/xgboost/src/learner.cc:738: \n",
      "Parameters: { \"use_label_encoder\" } are not used.\n",
      "\n",
      "  bst.update(dtrain, iteration=i, fobj=obj)\n"
     ]
    },
    {
     "name": "stdout",
     "output_type": "stream",
     "text": [
      "[CV] END xgb__colsample_bytree=0.9706635463175177, xgb__gamma=0.7272719958564209, xgb__learning_rate=0.07530815376116708, xgb__max_depth=8, xgb__min_child_weight=7, xgb__n_estimators=289, xgb__reg_alpha=0.32533033076326434, xgb__reg_lambda=0.388677289689482, xgb__subsample=0.7085396127095583; total time= 2.3min\n"
     ]
    },
    {
     "name": "stderr",
     "output_type": "stream",
     "text": [
      "/Users/abhijeetburagohain/spacy_env/venv/lib/python3.10/site-packages/xgboost/training.py:183: UserWarning: [18:59:46] WARNING: /Users/runner/work/xgboost/xgboost/src/learner.cc:738: \n",
      "Parameters: { \"use_label_encoder\" } are not used.\n",
      "\n",
      "  bst.update(dtrain, iteration=i, fobj=obj)\n"
     ]
    },
    {
     "name": "stdout",
     "output_type": "stream",
     "text": [
      "[CV] END xgb__colsample_bytree=0.9314950036607718, xgb__gamma=0.3567533266935893, xgb__learning_rate=0.06618690193747616, xgb__max_depth=6, xgb__min_child_weight=9, xgb__n_estimators=256, xgb__reg_alpha=0.8021969807540397, xgb__reg_lambda=0.07455064367977082, xgb__subsample=0.9947547746402069; total time= 1.6min\n"
     ]
    },
    {
     "name": "stderr",
     "output_type": "stream",
     "text": [
      "/Users/abhijeetburagohain/spacy_env/venv/lib/python3.10/site-packages/xgboost/training.py:183: UserWarning: [18:59:58] WARNING: /Users/runner/work/xgboost/xgboost/src/learner.cc:738: \n",
      "Parameters: { \"use_label_encoder\" } are not used.\n",
      "\n",
      "  bst.update(dtrain, iteration=i, fobj=obj)\n"
     ]
    },
    {
     "name": "stdout",
     "output_type": "stream",
     "text": [
      "[CV] END xgb__colsample_bytree=0.9314950036607718, xgb__gamma=0.3567533266935893, xgb__learning_rate=0.06618690193747616, xgb__max_depth=6, xgb__min_child_weight=9, xgb__n_estimators=256, xgb__reg_alpha=0.8021969807540397, xgb__reg_lambda=0.07455064367977082, xgb__subsample=0.9947547746402069; total time= 1.6min\n"
     ]
    },
    {
     "name": "stderr",
     "output_type": "stream",
     "text": [
      "/Users/abhijeetburagohain/spacy_env/venv/lib/python3.10/site-packages/xgboost/training.py:183: UserWarning: [19:00:41] WARNING: /Users/runner/work/xgboost/xgboost/src/learner.cc:738: \n",
      "Parameters: { \"use_label_encoder\" } are not used.\n",
      "\n",
      "  bst.update(dtrain, iteration=i, fobj=obj)\n"
     ]
    },
    {
     "name": "stdout",
     "output_type": "stream",
     "text": [
      "[CV] END xgb__colsample_bytree=0.9314950036607718, xgb__gamma=0.3567533266935893, xgb__learning_rate=0.06618690193747616, xgb__max_depth=6, xgb__min_child_weight=9, xgb__n_estimators=256, xgb__reg_alpha=0.8021969807540397, xgb__reg_lambda=0.07455064367977082, xgb__subsample=0.9947547746402069; total time= 1.5min\n"
     ]
    },
    {
     "name": "stderr",
     "output_type": "stream",
     "text": [
      "/Users/abhijeetburagohain/spacy_env/venv/lib/python3.10/site-packages/xgboost/training.py:183: UserWarning: [19:00:55] WARNING: /Users/runner/work/xgboost/xgboost/src/learner.cc:738: \n",
      "Parameters: { \"use_label_encoder\" } are not used.\n",
      "\n",
      "  bst.update(dtrain, iteration=i, fobj=obj)\n"
     ]
    },
    {
     "name": "stdout",
     "output_type": "stream",
     "text": [
      "[CV] END xgb__colsample_bytree=0.9314950036607718, xgb__gamma=0.3567533266935893, xgb__learning_rate=0.06618690193747616, xgb__max_depth=6, xgb__min_child_weight=9, xgb__n_estimators=256, xgb__reg_alpha=0.8021969807540397, xgb__reg_lambda=0.07455064367977082, xgb__subsample=0.9947547746402069; total time= 1.6min\n"
     ]
    },
    {
     "name": "stderr",
     "output_type": "stream",
     "text": [
      "/Users/abhijeetburagohain/spacy_env/venv/lib/python3.10/site-packages/xgboost/training.py:183: UserWarning: [19:01:19] WARNING: /Users/runner/work/xgboost/xgboost/src/learner.cc:738: \n",
      "Parameters: { \"use_label_encoder\" } are not used.\n",
      "\n",
      "  bst.update(dtrain, iteration=i, fobj=obj)\n"
     ]
    },
    {
     "name": "stdout",
     "output_type": "stream",
     "text": [
      "[CV] END xgb__colsample_bytree=0.908897907718663, xgb__gamma=0.1987156815341724, xgb__learning_rate=0.01110442342472048, xgb__max_depth=5, xgb__min_child_weight=3, xgb__n_estimators=180, xgb__reg_alpha=0.71134195274865, xgb__reg_lambda=0.7901755405312056, xgb__subsample=0.8423839899124046; total time= 1.9min\n"
     ]
    },
    {
     "name": "stderr",
     "output_type": "stream",
     "text": [
      "/Users/abhijeetburagohain/spacy_env/venv/lib/python3.10/site-packages/xgboost/training.py:183: UserWarning: [19:01:52] WARNING: /Users/runner/work/xgboost/xgboost/src/learner.cc:738: \n",
      "Parameters: { \"use_label_encoder\" } are not used.\n",
      "\n",
      "  bst.update(dtrain, iteration=i, fobj=obj)\n"
     ]
    },
    {
     "name": "stdout",
     "output_type": "stream",
     "text": [
      "[CV] END xgb__colsample_bytree=0.908897907718663, xgb__gamma=0.1987156815341724, xgb__learning_rate=0.01110442342472048, xgb__max_depth=5, xgb__min_child_weight=3, xgb__n_estimators=180, xgb__reg_alpha=0.71134195274865, xgb__reg_lambda=0.7901755405312056, xgb__subsample=0.8423839899124046; total time= 1.8min\n",
      "[CV] END xgb__colsample_bytree=0.908897907718663, xgb__gamma=0.1987156815341724, xgb__learning_rate=0.01110442342472048, xgb__max_depth=5, xgb__min_child_weight=3, xgb__n_estimators=180, xgb__reg_alpha=0.71134195274865, xgb__reg_lambda=0.7901755405312056, xgb__subsample=0.8423839899124046; total time= 1.8min\n",
      "[CV] END xgb__colsample_bytree=0.908897907718663, xgb__gamma=0.1987156815341724, xgb__learning_rate=0.01110442342472048, xgb__max_depth=5, xgb__min_child_weight=3, xgb__n_estimators=180, xgb__reg_alpha=0.71134195274865, xgb__reg_lambda=0.7901755405312056, xgb__subsample=0.8423839899124046; total time= 1.6min\n",
      "[CV] END xgb__colsample_bytree=0.908897907718663, xgb__gamma=0.1987156815341724, xgb__learning_rate=0.01110442342472048, xgb__max_depth=5, xgb__min_child_weight=3, xgb__n_estimators=180, xgb__reg_alpha=0.71134195274865, xgb__reg_lambda=0.7901755405312056, xgb__subsample=0.8423839899124046; total time= 1.3min\n"
     ]
    },
    {
     "name": "stderr",
     "output_type": "stream",
     "text": [
      "/Users/abhijeetburagohain/spacy_env/venv/lib/python3.10/site-packages/xgboost/training.py:183: UserWarning: [19:03:12] WARNING: /Users/runner/work/xgboost/xgboost/src/learner.cc:738: \n",
      "Parameters: { \"use_label_encoder\" } are not used.\n",
      "\n",
      "  bst.update(dtrain, iteration=i, fobj=obj)\n"
     ]
    },
    {
     "name": "stdout",
     "output_type": "stream",
     "text": [
      "XGBoost Best Parameters: {'xgb__colsample_bytree': 0.7334834444556088, 'xgb__gamma': 0.14286681792194078, 'xgb__learning_rate': 0.14017769458977059, 'xgb__max_depth': 7, 'xgb__min_child_weight': 2, 'xgb__n_estimators': 187, 'xgb__reg_alpha': 0.8324426408004217, 'xgb__reg_lambda': 0.21233911067827616, 'xgb__subsample': 0.6727299868828402}\n",
      "XGBoost Best Score: 0.9290013496637688\n"
     ]
    }
   ],
   "source": [
    "from xgboost import XGBClassifier\n",
    "from sklearn.model_selection import RandomizedSearchCV, StratifiedKFold\n",
    "from imblearn.pipeline import Pipeline\n",
    "from imblearn.over_sampling import SMOTE\n",
    "from scipy.stats import randint, uniform\n",
    "\n",
    "# Define pipeline\n",
    "pipeline_xgb = Pipeline([\n",
    "    ('smote', SMOTE(random_state=42)),\n",
    "    ('xgb', XGBClassifier(eval_metric='mlogloss', random_state=42))\n",
    "])\n",
    "\n",
    "# Hyperparameter distributions\n",
    "param_distributions_xgb = {\n",
    "    'xgb__n_estimators': randint(100, 300),\n",
    "    'xgb__max_depth': randint(3, 10),\n",
    "    'xgb__learning_rate': uniform(0.01, 0.2),\n",
    "    'xgb__subsample': uniform(0.6, 0.4),\n",
    "    'xgb__colsample_bytree': uniform(0.6, 0.4),\n",
    "    'xgb__reg_alpha': uniform(0, 1),\n",
    "    'xgb__reg_lambda': uniform(0, 1),\n",
    "    'xgb__min_child_weight': randint(1, 10),\n",
    "    'xgb__gamma': uniform(0, 1)\n",
    "}\n",
    "\n",
    "# Stratified K-Fold CV\n",
    "cv_strategy = StratifiedKFold(n_splits=5, shuffle=True, random_state=42)\n",
    "\n",
    "# RandomizedSearchCV for XGBoost\n",
    "random_search_xgb = RandomizedSearchCV(\n",
    "    estimator=pipeline_xgb,\n",
    "    param_distributions=param_distributions_xgb,\n",
    "    n_iter=10,\n",
    "    scoring='f1_macro',\n",
    "    cv=cv_strategy,\n",
    "    verbose=2,\n",
    "    n_jobs=-1,\n",
    "    random_state=42\n",
    ")\n",
    "\n",
    "# Fit model\n",
    "random_search_xgb.fit(X_train, y_train)\n",
    "\n",
    "print(\"XGBoost Best Parameters:\", random_search_xgb.best_params_)\n",
    "print(\"XGBoost Best Score:\", random_search_xgb.best_score_)"
   ]
  },
  {
   "cell_type": "code",
   "execution_count": 85,
   "metadata": {},
   "outputs": [],
   "source": [
    "## Getting the feature importance of best model \"XGBoost\""
   ]
  },
  {
   "cell_type": "code",
   "execution_count": 17,
   "metadata": {},
   "outputs": [
    {
     "name": "stdout",
     "output_type": "stream",
     "text": [
      "                   feature  importance\n",
      "5004           vader_title    0.032612\n",
      "5006    vader_weighted_avg    0.020619\n",
      "2900               monotor    0.014383\n",
      "1816              external    0.013653\n",
      "3700           replacement    0.012851\n",
      "1285                  cons    0.011656\n",
      "5002  sentiment_polarity_2    0.011529\n",
      "3715                resive    0.010331\n",
      "1451            decription    0.009510\n",
      "4399                  thay    0.009026\n"
     ]
    },
    {
     "name": "stderr",
     "output_type": "stream",
     "text": [
      "/var/folders/fm/6g7pnjfx1fg8q710r999g5v40000gn/T/ipykernel_26122/3672367168.py:31: FutureWarning: \n",
      "\n",
      "Passing `palette` without assigning `hue` is deprecated and will be removed in v0.14.0. Assign the `y` variable to `hue` and set `legend=False` for the same effect.\n",
      "\n",
      "  sns.barplot(data=feat_imp_df.head(20), x='importance', y='feature', palette='coolwarm')\n"
     ]
    },
    {
     "data": {
      "image/png": "[encoded data removed]",
      "text/plain": [
       "<Figure size 1000x600 with 1 Axes>"
      ]
     },
     "metadata": {},
     "output_type": "display_data"
    }
   ],
   "source": [
    "# Get the best trained model from the search\n",
    "best_model = random_search_xgb.best_estimator_\n",
    "\n",
    "# Now access the underlying classifier (if it's a pipeline)\n",
    "# Assuming you used a pipeline, extract the classifier\n",
    "xgb_clf = best_model.named_steps['xgb']  # Replace 'xgb' with the correct step name\n",
    "\n",
    "# Get feature importances\n",
    "importances = xgb_clf.feature_importances_\n",
    "\n",
    "# Feature Names\n",
    "tfidf_feature_names = tfidf.get_feature_names_out()\n",
    "manual_feature_names = manual_features.columns  # replace with actual DataFrame if needed\n",
    "\n",
    "all_feature_names = np.concatenate([tfidf_feature_names, manual_feature_names])\n",
    "\n",
    "# Create DataFrame\n",
    "feat_imp_df = pd.DataFrame({\n",
    "    'feature': all_feature_names,\n",
    "    'importance': importances\n",
    "}).sort_values(by='importance', ascending=False)\n",
    "\n",
    "# Print top features\n",
    "print(feat_imp_df.head(10))\n",
    "\n",
    "# Plot\n",
    "import matplotlib.pyplot as plt\n",
    "import seaborn as sns\n",
    "\n",
    "plt.figure(figsize=(10, 6))\n",
    "sns.barplot(data=feat_imp_df.head(20), x='importance', y='feature', palette='coolwarm')\n",
    "plt.title('Top 20 Feature Importances')\n",
    "plt.xlabel('Importance Score')\n",
    "plt.ylabel('Features')\n",
    "plt.tight_layout()\n",
    "plt.show()\n"
   ]
  },
  {
   "cell_type": "code",
   "execution_count": 18,
   "metadata": {},
   "outputs": [
    {
     "name": "stdout",
     "output_type": "stream",
     "text": [
      "              precision    recall  f1-score   support\n",
      "\n",
      "           0       0.97      0.99      0.98       507\n",
      "           1       0.79      0.87      0.83       376\n",
      "           2       0.99      0.98      0.98      3940\n",
      "\n",
      "    accuracy                           0.97      4823\n",
      "   macro avg       0.92      0.94      0.93      4823\n",
      "weighted avg       0.97      0.97      0.97      4823\n",
      "\n"
     ]
    }
   ],
   "source": [
    "from sklearn.metrics import classification_report\n",
    "# Predict on the test set\n",
    "y_pred = random_search_xgb.best_estimator_.predict(X_test)\n",
    "\n",
    "# Generate classification report\n",
    "print(classification_report(y_test, y_pred))"
   ]
  },
  {
   "cell_type": "code",
   "execution_count": 19,
   "metadata": {},
   "outputs": [
    {
     "name": "stdout",
     "output_type": "stream",
     "text": [
      "Training Report:\n",
      "              precision    recall  f1-score   support\n",
      "\n",
      "           0       0.99      0.99      0.99      1970\n",
      "           1       0.93      0.95      0.94      1659\n",
      "           2       0.99      0.99      0.99     15661\n",
      "\n",
      "    accuracy                           0.99     19290\n",
      "   macro avg       0.97      0.98      0.97     19290\n",
      "weighted avg       0.99      0.99      0.99     19290\n",
      "\n",
      "Training Accuracy: 0.9875583203732504\n",
      "Test Report:\n",
      "              precision    recall  f1-score   support\n",
      "\n",
      "           0       0.97      0.99      0.98       507\n",
      "           1       0.79      0.87      0.83       376\n",
      "           2       0.99      0.98      0.98      3940\n",
      "\n",
      "    accuracy                           0.97      4823\n",
      "   macro avg       0.92      0.94      0.93      4823\n",
      "weighted avg       0.97      0.97      0.97      4823\n",
      "\n",
      "Test Accuracy: 0.9693137051627617\n"
     ]
    }
   ],
   "source": [
    "from sklearn.metrics import classification_report, accuracy_score\n",
    "\n",
    "# On training set\n",
    "y_train_pred = random_search_xgb.best_estimator_.predict(X_train)\n",
    "print(\"Training Report:\")\n",
    "print(classification_report(y_train, y_train_pred))\n",
    "print(\"Training Accuracy:\", accuracy_score(y_train, y_train_pred))\n",
    "\n",
    "# On test set\n",
    "y_test_pred = random_search_xgb.best_estimator_.predict(X_test)\n",
    "print(\"Test Report:\")\n",
    "print(classification_report(y_test, y_test_pred))\n",
    "print(\"Test Accuracy:\", accuracy_score(y_test, y_test_pred))"
   ]
  },
  {
   "cell_type": "code",
   "execution_count": 22,
   "metadata": {},
   "outputs": [],
   "source": [
    "## KNN"
   ]
  },
  {
   "cell_type": "code",
   "execution_count": 56,
   "metadata": {},
   "outputs": [
    {
     "name": "stdout",
     "output_type": "stream",
     "text": [
      "Fitting 5 folds for each of 7 candidates, totalling 35 fits\n",
      "[CV] END .knn__n_neighbors=9, knn__p=2, knn__weights=uniform; total time= 1.4min\n",
      "[CV] END .knn__n_neighbors=9, knn__p=2, knn__weights=uniform; total time= 1.4min\n",
      "[CV] END .knn__n_neighbors=9, knn__p=2, knn__weights=uniform; total time= 1.4min\n",
      "[CV] END .knn__n_neighbors=9, knn__p=2, knn__weights=uniform; total time= 1.4min\n",
      "[CV] END .knn__n_neighbors=9, knn__p=2, knn__weights=uniform; total time=  23.0s\n",
      "[CV] END knn__n_neighbors=17, knn__p=1, knn__weights=distance; total time=  35.8s\n",
      "[CV] END knn__n_neighbors=17, knn__p=1, knn__weights=distance; total time=  35.8s\n",
      "[CV] END knn__n_neighbors=17, knn__p=1, knn__weights=distance; total time=  36.3s\n",
      "[CV] END knn__n_neighbors=17, knn__p=1, knn__weights=distance; total time=  45.5s\n",
      "[CV] END .knn__n_neighbors=9, knn__p=2, knn__weights=uniform; total time=  39.9s\n",
      "[CV] END knn__n_neighbors=17, knn__p=1, knn__weights=distance; total time=  41.0s\n",
      "[CV] END .knn__n_neighbors=9, knn__p=2, knn__weights=uniform; total time=  40.7s\n",
      "[CV] END .knn__n_neighbors=9, knn__p=2, knn__weights=uniform; total time=  29.3s\n",
      "[CV] END .knn__n_neighbors=9, knn__p=2, knn__weights=uniform; total time=  28.9s\n",
      "[CV] END .knn__n_neighbors=9, knn__p=2, knn__weights=uniform; total time=  29.8s\n",
      "[CV] END knn__n_neighbors=13, knn__p=1, knn__weights=distance; total time=  33.5s\n",
      "[CV] END knn__n_neighbors=13, knn__p=1, knn__weights=distance; total time=  35.9s\n",
      "[CV] END knn__n_neighbors=13, knn__p=1, knn__weights=distance; total time=  35.8s\n",
      "[CV] END knn__n_neighbors=13, knn__p=1, knn__weights=distance; total time=  36.4s\n",
      "[CV] END knn__n_neighbors=13, knn__p=1, knn__weights=distance; total time=  35.9s\n",
      "[CV] END knn__n_neighbors=6, knn__p=2, knn__weights=distance; total time=  29.0s\n",
      "[CV] END knn__n_neighbors=6, knn__p=2, knn__weights=distance; total time=  46.9s\n",
      "[CV] END knn__n_neighbors=6, knn__p=2, knn__weights=distance; total time= 1.1min\n",
      "[CV] END knn__n_neighbors=6, knn__p=2, knn__weights=distance; total time= 1.2min\n",
      "[CV] END knn__n_neighbors=6, knn__p=2, knn__weights=distance; total time= 1.2min\n",
      "[CV] END .knn__n_neighbors=5, knn__p=2, knn__weights=uniform; total time= 1.5min\n",
      "[CV] END .knn__n_neighbors=5, knn__p=2, knn__weights=uniform; total time= 1.5min\n",
      "[CV] END .knn__n_neighbors=5, knn__p=2, knn__weights=uniform; total time= 1.5min\n",
      "[CV] END .knn__n_neighbors=5, knn__p=2, knn__weights=uniform; total time= 1.6min\n",
      "[CV] END knn__n_neighbors=4, knn__p=2, knn__weights=distance; total time= 1.8min\n",
      "[CV] END knn__n_neighbors=4, knn__p=2, knn__weights=distance; total time= 1.7min\n",
      "[CV] END .knn__n_neighbors=5, knn__p=2, knn__weights=uniform; total time= 1.8min\n",
      "[CV] END knn__n_neighbors=4, knn__p=2, knn__weights=distance; total time= 1.8min\n",
      "[CV] END knn__n_neighbors=4, knn__p=2, knn__weights=distance; total time=  41.9s\n",
      "[CV] END knn__n_neighbors=4, knn__p=2, knn__weights=distance; total time=  42.5s\n",
      "Best Parameters: {'knn__n_neighbors': 17, 'knn__p': 1, 'knn__weights': 'distance'}\n",
      "Best Score: 0.8693497467032161\n"
     ]
    }
   ],
   "source": [
    "from sklearn.neighbors import KNeighborsClassifier\n",
    "from sklearn.preprocessing import StandardScaler\n",
    "from imblearn.pipeline import Pipeline\n",
    "from imblearn.over_sampling import SMOTE\n",
    "from sklearn.model_selection import StratifiedKFold, RandomizedSearchCV\n",
    "from scipy.stats import randint\n",
    "\n",
    "# Define pipeline\n",
    "pipeline = Pipeline([\n",
    "    ('smote', SMOTE(random_state=42)),\n",
    "    ('scaler', StandardScaler(with_mean=False)),\n",
    "    ('knn', KNeighborsClassifier())\n",
    "])\n",
    "\n",
    "# Parameter grid\n",
    "param_dist = {\n",
    "    'knn__n_neighbors': randint(3, 21),\n",
    "    'knn__weights': ['uniform', 'distance'],\n",
    "    'knn__p': [1, 2]  # 1: Manhattan, 2: Euclidean\n",
    "}\n",
    "\n",
    "# Stratified K-Fold\n",
    "cv = StratifiedKFold(n_splits=5, shuffle=True, random_state=42)\n",
    "\n",
    "# Randomized Search\n",
    "random_search_knn = RandomizedSearchCV(\n",
    "    pipeline,\n",
    "    param_distributions=param_dist,\n",
    "    n_iter=7,\n",
    "    scoring='f1_macro',\n",
    "    cv=cv,\n",
    "    n_jobs=-1,\n",
    "    verbose=2,\n",
    "    random_state=42\n",
    ")\n",
    "\n",
    "# Fit\n",
    "random_search_knn.fit(X_train, y_train)\n",
    "\n",
    "# Results\n",
    "print(\"Best Parameters:\", random_search_knn.best_params_)\n",
    "print(\"Best Score:\", random_search_knn.best_score_)\n"
   ]
  },
  {
   "cell_type": "code",
   "execution_count": 57,
   "metadata": {},
   "outputs": [
    {
     "name": "stdout",
     "output_type": "stream",
     "text": [
      "              precision    recall  f1-score   support\n",
      "\n",
      "           0       0.97      0.90      0.93       507\n",
      "           1       0.93      0.70      0.80       376\n",
      "           2       0.96      1.00      0.98      3940\n",
      "\n",
      "    accuracy                           0.96      4823\n",
      "   macro avg       0.95      0.86      0.90      4823\n",
      "weighted avg       0.96      0.96      0.96      4823\n",
      "\n"
     ]
    }
   ],
   "source": [
    "from sklearn.metrics import classification_report\n",
    "# Predict on the test set\n",
    "y_pred = random_search_knn.best_estimator_.predict(X_test)\n",
    "\n",
    "# Generate classification report\n",
    "print(classification_report(y_test, y_pred))"
   ]
  },
  {
   "cell_type": "code",
   "execution_count": 58,
   "metadata": {},
   "outputs": [
    {
     "name": "stdout",
     "output_type": "stream",
     "text": [
      "Training Report:\n",
      "              precision    recall  f1-score   support\n",
      "\n",
      "           0       1.00      1.00      1.00      1970\n",
      "           1       0.99      0.97      0.98      1659\n",
      "           2       1.00      1.00      1.00     15661\n",
      "\n",
      "    accuracy                           1.00     19290\n",
      "   macro avg       1.00      0.99      0.99     19290\n",
      "weighted avg       1.00      1.00      1.00     19290\n",
      "\n",
      "Training Accuracy: 0.9961119751166407\n",
      "Test Report:\n",
      "              precision    recall  f1-score   support\n",
      "\n",
      "           0       0.97      0.90      0.93       507\n",
      "           1       0.93      0.70      0.80       376\n",
      "           2       0.96      1.00      0.98      3940\n",
      "\n",
      "    accuracy                           0.96      4823\n",
      "   macro avg       0.95      0.86      0.90      4823\n",
      "weighted avg       0.96      0.96      0.96      4823\n",
      "\n",
      "Test Accuracy: 0.9624714907733776\n"
     ]
    }
   ],
   "source": [
    "from sklearn.metrics import classification_report, accuracy_score\n",
    "\n",
    "# On training set\n",
    "y_train_pred = random_search_knn.best_estimator_.predict(X_train)\n",
    "print(\"Training Report:\")\n",
    "print(classification_report(y_train, y_train_pred))\n",
    "print(\"Training Accuracy:\", accuracy_score(y_train, y_train_pred))\n",
    "\n",
    "# On test set\n",
    "y_test_pred = random_search_knn.best_estimator_.predict(X_test)\n",
    "print(\"Test Report:\")\n",
    "print(classification_report(y_test, y_test_pred))\n",
    "print(\"Test Accuracy:\", accuracy_score(y_test, y_test_pred))"
   ]
  },
  {
   "cell_type": "markdown",
   "metadata": {},
   "source": [
    "THE BEST MODEL IS THE `RANDOM FOREST CLASSIFIER` --> F1_SCORE=82% \n",
    "\n",
    "After Featur Engineering, the Random Forrst classifier model's F1_SCORE=87% and the XGBoost Model's F1_SCORE=93%\n",
    "Hence, we will choose the `XGBOOST` as our final model."
   ]
  },
  {
   "cell_type": "code",
   "execution_count": 11,
   "metadata": {},
   "outputs": [],
   "source": [
    "## Saving the model and other components\n",
    "import joblib\n",
    "\n",
    "# Save model and other components\n",
    "# joblib.dump(random_search_xgb.best_estimator_, 'model.pkl')\n",
    "# joblib.dump(tfidf, 'tfidf_vectorizer.pkl')\n",
    "# joblib.dump(scaler, 'scaler.pkl')  # only if used"
   ]
  },
  {
   "cell_type": "code",
   "execution_count": 12,
   "metadata": {},
   "outputs": [],
   "source": [
    "## Loading the models again\n",
    "model = joblib.load('model.pkl')\n",
    "tfidf = joblib.load('tfidf_vectorizer.pkl')\n",
    "scaler = joblib.load('scaler.pkl')"
   ]
  },
  {
   "cell_type": "code",
   "execution_count": 86,
   "metadata": {},
   "outputs": [],
   "source": [
    "### TESTING ON UNSEEN DATA"
   ]
  },
  {
   "cell_type": "code",
   "execution_count": 16,
   "metadata": {},
   "outputs": [],
   "source": [
    "from helper_functions import *"
   ]
  },
  {
   "cell_type": "code",
   "execution_count": 14,
   "metadata": {},
   "outputs": [],
   "source": [
    "# Step 1: Convert user input to a DataFrame\n",
    "user_input = \"This is a sample user sentence to process.\"\n",
    "data_input = pd.DataFrame({'review': [user_input]})"
   ]
  },
  {
   "cell_type": "code",
   "execution_count": 15,
   "metadata": {},
   "outputs": [
    {
     "ename": "NotFittedError",
     "evalue": "Vocabulary not fitted or provided",
     "output_type": "error",
     "traceback": [
      "\u001b[0;31m---------------------------------------------------------------------------\u001b[0m",
      "\u001b[0;31mNotFittedError\u001b[0m                            Traceback (most recent call last)",
      "Cell \u001b[0;32mIn[15], line 3\u001b[0m\n\u001b[1;32m      1\u001b[0m data_preprocessed\u001b[38;5;241m=\u001b[39mpreprocess(data_input,clean_tokens,safe_lower,remove_unwanted_symbols,normalize_token_list,\n\u001b[1;32m      2\u001b[0m     translate_hindi_words,demojize_tokens)\n\u001b[0;32m----> 3\u001b[0m data_feature_eng\u001b[38;5;241m=\u001b[39m\u001b[43mfeature_engineered\u001b[49m\u001b[43m(\u001b[49m\u001b[43mdata_preprocessed\u001b[49m\u001b[43m,\u001b[49m\u001b[43mcount_entities\u001b[49m\u001b[43m,\u001b[49m\u001b[43mcount_spelling_errors\u001b[49m\u001b[43m)\u001b[49m\n\u001b[1;32m      4\u001b[0m X,data_final\u001b[38;5;241m=\u001b[39mget_input(data_feature_eng,tfidf,scaler)\n",
      "File \u001b[0;32m~/spacy_env/helper_functions.py:165\u001b[0m, in \u001b[0;36mfeature_engineered\u001b[0;34m(data, count_entities, count_spelling_errors)\u001b[0m\n\u001b[1;32m    163\u001b[0m \u001b[38;5;66;03m# Step 1: Vectorize the text\u001b[39;00m\n\u001b[1;32m    164\u001b[0m vectorizer \u001b[38;5;241m=\u001b[39m CountVectorizer(max_df\u001b[38;5;241m=\u001b[39m\u001b[38;5;241m1.0\u001b[39m, min_df\u001b[38;5;241m=\u001b[39m\u001b[38;5;241m1\u001b[39m, stop_words\u001b[38;5;241m=\u001b[39m\u001b[38;5;124m'\u001b[39m\u001b[38;5;124menglish\u001b[39m\u001b[38;5;124m'\u001b[39m)\n\u001b[0;32m--> 165\u001b[0m doc_term_matrix \u001b[38;5;241m=\u001b[39m \u001b[43mvectorizer\u001b[49m\u001b[38;5;241;43m.\u001b[39;49m\u001b[43mtransform\u001b[49m\u001b[43m(\u001b[49m\u001b[43mdata\u001b[49m\u001b[43m[\u001b[49m\u001b[38;5;124;43m'\u001b[39;49m\u001b[38;5;124;43mlemmatized_text\u001b[39;49m\u001b[38;5;124;43m'\u001b[39;49m\u001b[43m]\u001b[49m\u001b[43m)\u001b[49m\n\u001b[1;32m    166\u001b[0m \u001b[38;5;66;03m# Step 2: Fit LDA model\u001b[39;00m\n\u001b[1;32m    167\u001b[0m \u001b[38;5;66;03m# lda = LatentDirichletAllocation(n_components=2, random_state=42)\u001b[39;00m\n\u001b[1;32m    168\u001b[0m lda\u001b[38;5;241m.\u001b[39mfit(doc_term_matrix)\n",
      "File \u001b[0;32m~/spacy_env/venv/lib/python3.10/site-packages/sklearn/feature_extraction/text.py:1418\u001b[0m, in \u001b[0;36mCountVectorizer.transform\u001b[0;34m(self, raw_documents)\u001b[0m\n\u001b[1;32m   1414\u001b[0m \u001b[38;5;28;01mif\u001b[39;00m \u001b[38;5;28misinstance\u001b[39m(raw_documents, \u001b[38;5;28mstr\u001b[39m):\n\u001b[1;32m   1415\u001b[0m     \u001b[38;5;28;01mraise\u001b[39;00m \u001b[38;5;167;01mValueError\u001b[39;00m(\n\u001b[1;32m   1416\u001b[0m         \u001b[38;5;124m\"\u001b[39m\u001b[38;5;124mIterable over raw text documents expected, string object received.\u001b[39m\u001b[38;5;124m\"\u001b[39m\n\u001b[1;32m   1417\u001b[0m     )\n\u001b[0;32m-> 1418\u001b[0m \u001b[38;5;28;43mself\u001b[39;49m\u001b[38;5;241;43m.\u001b[39;49m\u001b[43m_check_vocabulary\u001b[49m\u001b[43m(\u001b[49m\u001b[43m)\u001b[49m\n\u001b[1;32m   1420\u001b[0m \u001b[38;5;66;03m# use the same matrix-building strategy as fit_transform\u001b[39;00m\n\u001b[1;32m   1421\u001b[0m _, X \u001b[38;5;241m=\u001b[39m \u001b[38;5;28mself\u001b[39m\u001b[38;5;241m.\u001b[39m_count_vocab(raw_documents, fixed_vocab\u001b[38;5;241m=\u001b[39m\u001b[38;5;28;01mTrue\u001b[39;00m)\n",
      "File \u001b[0;32m~/spacy_env/venv/lib/python3.10/site-packages/sklearn/feature_extraction/text.py:501\u001b[0m, in \u001b[0;36m_VectorizerMixin._check_vocabulary\u001b[0;34m(self)\u001b[0m\n\u001b[1;32m    499\u001b[0m     \u001b[38;5;28mself\u001b[39m\u001b[38;5;241m.\u001b[39m_validate_vocabulary()\n\u001b[1;32m    500\u001b[0m     \u001b[38;5;28;01mif\u001b[39;00m \u001b[38;5;129;01mnot\u001b[39;00m \u001b[38;5;28mself\u001b[39m\u001b[38;5;241m.\u001b[39mfixed_vocabulary_:\n\u001b[0;32m--> 501\u001b[0m         \u001b[38;5;28;01mraise\u001b[39;00m NotFittedError(\u001b[38;5;124m\"\u001b[39m\u001b[38;5;124mVocabulary not fitted or provided\u001b[39m\u001b[38;5;124m\"\u001b[39m)\n\u001b[1;32m    503\u001b[0m \u001b[38;5;28;01mif\u001b[39;00m \u001b[38;5;28mlen\u001b[39m(\u001b[38;5;28mself\u001b[39m\u001b[38;5;241m.\u001b[39mvocabulary_) \u001b[38;5;241m==\u001b[39m \u001b[38;5;241m0\u001b[39m:\n\u001b[1;32m    504\u001b[0m     \u001b[38;5;28;01mraise\u001b[39;00m \u001b[38;5;167;01mValueError\u001b[39;00m(\u001b[38;5;124m\"\u001b[39m\u001b[38;5;124mVocabulary is empty\u001b[39m\u001b[38;5;124m\"\u001b[39m)\n",
      "\u001b[0;31mNotFittedError\u001b[0m: Vocabulary not fitted or provided"
     ]
    }
   ],
   "source": [
    "data_preprocessed=preprocess(data_input,clean_tokens,safe_lower,remove_unwanted_symbols,normalize_token_list,\n",
    "    translate_hindi_words,demojize_tokens)\n",
    "data_feature_eng=feature_engineered(data_preprocessed,count_entities,count_spelling_errors)\n",
    "X,data_final=get_input(data_feature_eng,tfidf,scaler)"
   ]
  },
  {
   "cell_type": "code",
   "execution_count": null,
   "metadata": {},
   "outputs": [],
   "source": [
    "## Visualization"
   ]
  },
  {
   "cell_type": "code",
   "execution_count": null,
   "metadata": {},
   "outputs": [],
   "source": []
  },
  {
   "cell_type": "code",
   "execution_count": 58,
   "metadata": {},
   "outputs": [
    {
     "data": {
      "image/png": "[encoded data removed]",
      "text/plain": [
       "<Figure size 640x480 with 2 Axes>"
      ]
     },
     "metadata": {},
     "output_type": "display_data"
    }
   ],
   "source": [
    "import seaborn as sns\n",
    "import matplotlib.pyplot as plt\n",
    "from sklearn.metrics import confusion_matrix\n",
    "\n",
    "cm = confusion_matrix(y_test, y_pred)\n",
    "sns.heatmap(cm, annot=True, cmap=\"Blues\", xticklabels=le.classes_, yticklabels=le.classes_)\n",
    "plt.xlabel(\"Predicted\")\n",
    "plt.ylabel(\"Actual\")\n",
    "plt.title(\"Confusion Matrix\")\n",
    "plt.show()"
   ]
  },
  {
   "cell_type": "code",
   "execution_count": 59,
   "metadata": {},
   "outputs": [
    {
     "data": {
      "text/plain": [
       "array([[ 430,   17,   60],\n",
       "       [  32,  245,   99],\n",
       "       [  23,   51, 3866]])"
      ]
     },
     "execution_count": 59,
     "metadata": {},
     "output_type": "execute_result"
    }
   ],
   "source": [
    "cm"
   ]
  },
  {
   "cell_type": "code",
   "execution_count": 149,
   "metadata": {},
   "outputs": [],
   "source": [
    "## Will try to increase the precision of the other classes through different methods"
   ]
  },
  {
   "cell_type": "code",
   "execution_count": null,
   "metadata": {},
   "outputs": [],
   "source": [
    "RandomForestClassifier().get_params()"
   ]
  },
  {
   "cell_type": "code",
   "execution_count": null,
   "metadata": {},
   "outputs": [],
   "source": [
    "from sklearn.model_selection import GridSearchCV\n",
    "from sklearn.ensemble import RandomForestClassifier\n",
    "\n",
    "# Define model\n",
    "rf = RandomForestClassifier(class_weight='balanced',random_state=42)\n",
    "\n",
    "# Define grid of hyperparameters\n",
    "param_grid = {\n",
    "    'n_estimators': [100, 200],\n",
    "    'max_depth': [10, 20, None],\n",
    "    'min_samples_split': [2, 5],\n",
    "    'max_features': ['sqrt', 'log2']\n",
    "}\n",
    "\n",
    "# Grid search\n",
    "grid_search = GridSearchCV(estimator=rf,\n",
    "                           param_grid=param_grid,\n",
    "                           cv=5,\n",
    "                           scoring='f1_macro',  # or 'accuracy' depending on your goal\n",
    "                           n_jobs=-1,\n",
    "                           verbose=2)\n",
    "\n",
    "grid_search.fit(X_train, y_train)\n",
    "\n",
    "print(\"Best Parameters:\", grid_search.best_params_)\n",
    "print(\"Best Score:\", grid_search.best_score_)\n"
   ]
  },
  {
   "cell_type": "code",
   "execution_count": 153,
   "metadata": {},
   "outputs": [],
   "source": [
    "best_model = grid_search.best_estimator_\n",
    "y_pred = best_model.predict(X_test)"
   ]
  },
  {
   "cell_type": "code",
   "execution_count": 154,
   "metadata": {},
   "outputs": [
    {
     "name": "stdout",
     "output_type": "stream",
     "text": [
      "              precision    recall  f1-score   support\n",
      "\n",
      "           0       0.88      0.87      0.88       507\n",
      "           1       0.77      0.66      0.71       376\n",
      "           2       0.97      0.98      0.97      3940\n",
      "\n",
      "    accuracy                           0.94      4823\n",
      "   macro avg       0.87      0.84      0.86      4823\n",
      "weighted avg       0.94      0.94      0.94      4823\n",
      "\n"
     ]
    }
   ],
   "source": [
    "print(classification_report(y_test, y_pred))"
   ]
  },
  {
   "cell_type": "code",
   "execution_count": 170,
   "metadata": {},
   "outputs": [
    {
     "name": "stdout",
     "output_type": "stream",
     "text": [
      "              precision    recall  f1-score   support\n",
      "\n",
      "           0       0.87      0.88      0.87       507\n",
      "           1       0.81      0.67      0.73       376\n",
      "           2       0.97      0.98      0.98      3940\n",
      "\n",
      "    accuracy                           0.95      4823\n",
      "   macro avg       0.88      0.84      0.86      4823\n",
      "weighted avg       0.94      0.95      0.95      4823\n",
      "\n"
     ]
    }
   ],
   "source": [
    "# Predict on the test set\n",
    "y_pred = random_search.best_estimator_.predict(X_test)\n",
    "\n",
    "# Generate classification report\n",
    "print(classification_report(y_test, y_pred))"
   ]
  },
  {
   "cell_type": "code",
   "execution_count": 179,
   "metadata": {},
   "outputs": [
    {
     "name": "stdout",
     "output_type": "stream",
     "text": [
      "                                                 review  \\\n",
      "1724  Very good product. Item is bit pricy as per th...   \n",
      "1533                     Perfect one for office workers   \n",
      "3430  Product is excellent.But battery back up is ve...   \n",
      "1855                 Expected better. Has hinge problem   \n",
      "4115                                       Nice product   \n",
      "4100                                       Nice product   \n",
      "984                                 good for normal use   \n",
      "1593                                         Loved it❤️   \n",
      "1356  One and only best and affordable price range l...   \n",
      "3657  One of the best laptop of this price. Display,...   \n",
      "\n",
      "                                             clean_text  true_label  \\\n",
      "1724  good product item bit pricy spec provide hp ok...           0   \n",
      "1533                              perfect office worker           2   \n",
      "3430  product excellent battery poor 100 battery cha...           1   \n",
      "1855                          expect well hinge problem           1   \n",
      "4115                                       nice product           1   \n",
      "4100                                       nice product           0   \n",
      "984                                     good normal use           1   \n",
      "1593                                             love ❤           0   \n",
      "1356  good affordable price range laptop education d...           0   \n",
      "3657             good laptop price display battery fine           1   \n",
      "\n",
      "      predicted_label  \n",
      "1724                2  \n",
      "1533                1  \n",
      "3430                2  \n",
      "1855                0  \n",
      "4115                2  \n",
      "4100                2  \n",
      "984                 2  \n",
      "1593                2  \n",
      "1356                1  \n",
      "3657                2  \n"
     ]
    }
   ],
   "source": [
    "import pandas as pd\n",
    "\n",
    "# Assume test data is in X_test, y_test and you've got y_pred\n",
    "X_test_df = pd.DataFrame(X_test.toarray(), columns=tfidf.get_feature_names_out())  # If using TF-IDF\n",
    "original_reviews = data.loc[pd.Series(y_test).index, ['review','clean_text']]  # Use your original review text\n",
    "\n",
    "errors = pd.DataFrame({\n",
    "    \"review\": original_reviews['review'],\n",
    "    \"clean_text\": original_reviews['clean_text'],\n",
    "    \"true_label\": y_test,\n",
    "    \"predicted_label\": y_pred\n",
    "})\n",
    "\n",
    "misclassified = errors[errors[\"true_label\"] != errors[\"predicted_label\"]]\n",
    "print(misclassified.sample(10))  # Show 10 random misclassified samples\n"
   ]
  },
  {
   "cell_type": "code",
   "execution_count": 180,
   "metadata": {},
   "outputs": [],
   "source": [
    "misclassified.to_clipboard(index=False)"
   ]
  },
  {
   "cell_type": "code",
   "execution_count": 183,
   "metadata": {},
   "outputs": [
    {
     "ename": "NameError",
     "evalue": "name 'clf' is not defined",
     "output_type": "error",
     "traceback": [
      "\u001b[0;31m---------------------------------------------------------------------------\u001b[0m",
      "\u001b[0;31mNameError\u001b[0m                                 Traceback (most recent call last)",
      "Cell \u001b[0;32mIn[183], line 6\u001b[0m\n\u001b[1;32m      3\u001b[0m \u001b[38;5;28;01mfrom\u001b[39;00m\u001b[38;5;250m \u001b[39m\u001b[38;5;21;01msklearn\u001b[39;00m\u001b[38;5;21;01m.\u001b[39;00m\u001b[38;5;21;01mmetrics\u001b[39;00m\u001b[38;5;250m \u001b[39m\u001b[38;5;28;01mimport\u001b[39;00m confusion_matrix, ConfusionMatrixDisplay\n\u001b[1;32m      5\u001b[0m cm \u001b[38;5;241m=\u001b[39m confusion_matrix(y_test, y_pred)\n\u001b[0;32m----> 6\u001b[0m disp \u001b[38;5;241m=\u001b[39m ConfusionMatrixDisplay(confusion_matrix\u001b[38;5;241m=\u001b[39mcm, display_labels\u001b[38;5;241m=\u001b[39m\u001b[43mclf\u001b[49m\u001b[38;5;241m.\u001b[39mclasses_)\n\u001b[1;32m      7\u001b[0m disp\u001b[38;5;241m.\u001b[39mplot(cmap\u001b[38;5;241m=\u001b[39m\u001b[38;5;124m\"\u001b[39m\u001b[38;5;124mBlues\u001b[39m\u001b[38;5;124m\"\u001b[39m)\n\u001b[1;32m      8\u001b[0m plt\u001b[38;5;241m.\u001b[39mtitle(\u001b[38;5;124m\"\u001b[39m\u001b[38;5;124mConfusion Matrix\u001b[39m\u001b[38;5;124m\"\u001b[39m)\n",
      "\u001b[0;31mNameError\u001b[0m: name 'clf' is not defined"
     ]
    }
   ],
   "source": [
    "# Best Parameters: {'rf__max_depth': None, 'rf__max_features': 'log2',\n",
    "#                   'rf__min_samples_split': 2, 'rf__n_estimators': 271}\n",
    "from sklearn.metrics import confusion_matrix, ConfusionMatrixDisplay\n",
    "\n",
    "cm = confusion_matrix(y_test, y_pred)\n",
    "disp = ConfusionMatrixDisplay(confusion_matrix=cm, display_labels=clf.classes_)\n",
    "disp.plot(cmap=\"Blues\")\n",
    "plt.title(\"Confusion Matrix\")\n",
    "plt.show()"
   ]
  },
  {
   "cell_type": "code",
   "execution_count": 157,
   "metadata": {},
   "outputs": [
    {
     "name": "stdout",
     "output_type": "stream",
     "text": [
      "\n",
      "Fold 1\n",
      "              precision    recall  f1-score   support\n",
      "\n",
      "           0       0.90      0.82      0.86       394\n",
      "           1       0.88      0.55      0.68       331\n",
      "           2       0.94      0.99      0.97      3133\n",
      "\n",
      "    accuracy                           0.94      3858\n",
      "   macro avg       0.91      0.79      0.83      3858\n",
      "weighted avg       0.93      0.94      0.93      3858\n",
      "\n",
      "\n",
      "Fold 2\n",
      "              precision    recall  f1-score   support\n",
      "\n",
      "           0       0.88      0.77      0.82       394\n",
      "           1       0.89      0.49      0.63       332\n",
      "           2       0.94      0.99      0.96      3132\n",
      "\n",
      "    accuracy                           0.93      3858\n",
      "   macro avg       0.90      0.75      0.80      3858\n",
      "weighted avg       0.93      0.93      0.92      3858\n",
      "\n",
      "\n",
      "Fold 3\n",
      "              precision    recall  f1-score   support\n",
      "\n",
      "           0       0.90      0.79      0.84       394\n",
      "           1       0.94      0.48      0.64       332\n",
      "           2       0.93      0.99      0.96      3132\n",
      "\n",
      "    accuracy                           0.93      3858\n",
      "   macro avg       0.92      0.75      0.81      3858\n",
      "weighted avg       0.93      0.93      0.92      3858\n",
      "\n",
      "\n",
      "Fold 4\n",
      "              precision    recall  f1-score   support\n",
      "\n",
      "           0       0.87      0.77      0.82       394\n",
      "           1       0.93      0.55      0.69       332\n",
      "           2       0.94      0.99      0.96      3132\n",
      "\n",
      "    accuracy                           0.93      3858\n",
      "   macro avg       0.91      0.77      0.82      3858\n",
      "weighted avg       0.93      0.93      0.92      3858\n",
      "\n",
      "\n",
      "Fold 5\n",
      "              precision    recall  f1-score   support\n",
      "\n",
      "           0       0.91      0.78      0.84       394\n",
      "           1       0.88      0.54      0.67       332\n",
      "           2       0.94      0.99      0.96      3132\n",
      "\n",
      "    accuracy                           0.93      3858\n",
      "   macro avg       0.91      0.77      0.83      3858\n",
      "weighted avg       0.93      0.93      0.93      3858\n",
      "\n"
     ]
    }
   ],
   "source": [
    "from sklearn.model_selection import StratifiedKFold\n",
    "from sklearn.metrics import classification_report\n",
    "\n",
    "skf = StratifiedKFold(n_splits=5, shuffle=True, random_state=42)\n",
    "\n",
    "for fold, (train_index, val_index) in enumerate(skf.split(X_train, y_train)):\n",
    "    X_tr, X_val = X_train[train_index], X_train[val_index]\n",
    "    y_tr, y_val = y_train[train_index], y_train[val_index]\n",
    "    \n",
    "    model = RandomForestClassifier(**grid_search.best_params_, random_state=42)\n",
    "    model.fit(X_tr, y_tr)\n",
    "    y_pred = model.predict(X_val)\n",
    "\n",
    "    print(f\"\\nFold {fold+1}\")\n",
    "    print(classification_report(y_val, y_pred))\n"
   ]
  },
  {
   "cell_type": "code",
   "execution_count": 158,
   "metadata": {},
   "outputs": [
    {
     "name": "stdout",
     "output_type": "stream",
     "text": [
      "\n",
      "Fold 1\n",
      "              precision    recall  f1-score   support\n",
      "\n",
      "           0       0.81      0.87      0.84       394\n",
      "           1       0.70      0.61      0.65       331\n",
      "           2       0.96      0.97      0.96      3133\n",
      "\n",
      "    accuracy                           0.92      3858\n",
      "   macro avg       0.82      0.81      0.82      3858\n",
      "weighted avg       0.92      0.92      0.92      3858\n",
      "\n",
      "\n",
      "Fold 2\n",
      "              precision    recall  f1-score   support\n",
      "\n",
      "           0       0.79      0.86      0.82       394\n",
      "           1       0.68      0.57      0.62       332\n",
      "           2       0.96      0.96      0.96      3132\n",
      "\n",
      "    accuracy                           0.92      3858\n",
      "   macro avg       0.81      0.80      0.80      3858\n",
      "weighted avg       0.92      0.92      0.92      3858\n",
      "\n",
      "\n",
      "Fold 3\n",
      "              precision    recall  f1-score   support\n",
      "\n",
      "           0       0.80      0.86      0.83       394\n",
      "           1       0.73      0.56      0.63       332\n",
      "           2       0.96      0.97      0.96      3132\n",
      "\n",
      "    accuracy                           0.92      3858\n",
      "   macro avg       0.83      0.80      0.81      3858\n",
      "weighted avg       0.92      0.92      0.92      3858\n",
      "\n",
      "\n",
      "Fold 4\n",
      "              precision    recall  f1-score   support\n",
      "\n",
      "           0       0.80      0.85      0.82       394\n",
      "           1       0.71      0.62      0.66       332\n",
      "           2       0.96      0.96      0.96      3132\n",
      "\n",
      "    accuracy                           0.92      3858\n",
      "   macro avg       0.82      0.81      0.82      3858\n",
      "weighted avg       0.92      0.92      0.92      3858\n",
      "\n",
      "\n",
      "Fold 5\n",
      "              precision    recall  f1-score   support\n",
      "\n",
      "           0       0.82      0.84      0.83       394\n",
      "           1       0.75      0.62      0.68       332\n",
      "           2       0.95      0.97      0.96      3132\n",
      "\n",
      "    accuracy                           0.93      3858\n",
      "   macro avg       0.84      0.81      0.82      3858\n",
      "weighted avg       0.92      0.93      0.92      3858\n",
      "\n"
     ]
    }
   ],
   "source": [
    "from imblearn.pipeline import Pipeline\n",
    "from imblearn.over_sampling import SMOTE\n",
    "from sklearn.model_selection import StratifiedKFold\n",
    "from sklearn.metrics import classification_report\n",
    "from sklearn.ensemble import RandomForestClassifier\n",
    "\n",
    "# Define the pipeline\n",
    "pipeline = Pipeline([\n",
    "    ('smote', SMOTE(random_state=42)),\n",
    "    ('classifier', RandomForestClassifier(**grid_search.best_params_, random_state=42))\n",
    "])\n",
    "\n",
    "# Initialize Stratified K-Fold\n",
    "skf = StratifiedKFold(n_splits=5, shuffle=True, random_state=42)\n",
    "\n",
    "# Perform cross-validation\n",
    "for fold, (train_index, val_index) in enumerate(skf.split(X_train, y_train)):\n",
    "    X_tr, X_val = X_train[train_index], X_train[val_index]\n",
    "    y_tr, y_val = y_train[train_index], y_train[val_index]\n",
    "    \n",
    "    # Fit the pipeline on the training data\n",
    "    pipeline.fit(X_tr, y_tr)\n",
    "    \n",
    "    # Predict on the validation data\n",
    "    y_pred = pipeline.predict(X_val)\n",
    "\n",
    "    # Output performance metrics\n",
    "    print(f\"\\nFold {fold+1}\")\n",
    "    print(classification_report(y_val, y_pred))\n"
   ]
  },
  {
   "cell_type": "code",
   "execution_count": 2,
   "metadata": {},
   "outputs": [
    {
     "ename": "NameError",
     "evalue": "name 'data' is not defined",
     "output_type": "error",
     "traceback": [
      "\u001b[0;31m---------------------------------------------------------------------------\u001b[0m",
      "\u001b[0;31mNameError\u001b[0m                                 Traceback (most recent call last)",
      "Cell \u001b[0;32mIn[2], line 9\u001b[0m\n\u001b[1;32m      6\u001b[0m     pos_tags \u001b[38;5;241m=\u001b[39m pos_tag(tokens)\n\u001b[1;32m      7\u001b[0m     \u001b[38;5;28;01mreturn\u001b[39;00m \u001b[38;5;28msum\u001b[39m(\u001b[38;5;241m1\u001b[39m \u001b[38;5;28;01mfor\u001b[39;00m word, tag \u001b[38;5;129;01min\u001b[39;00m pos_tags \u001b[38;5;28;01mif\u001b[39;00m tag\u001b[38;5;241m.\u001b[39mstartswith(pos_tag_prefix))\n\u001b[0;32m----> 9\u001b[0m data[\u001b[38;5;124m'\u001b[39m\u001b[38;5;124mnoun_count\u001b[39m\u001b[38;5;124m'\u001b[39m] \u001b[38;5;241m=\u001b[39m \u001b[43mdata\u001b[49m[\u001b[38;5;124m'\u001b[39m\u001b[38;5;124mreview\u001b[39m\u001b[38;5;124m'\u001b[39m]\u001b[38;5;241m.\u001b[39mapply(\u001b[38;5;28;01mlambda\u001b[39;00m x: count_pos(x, \u001b[38;5;124m'\u001b[39m\u001b[38;5;124mNN\u001b[39m\u001b[38;5;124m'\u001b[39m))\n\u001b[1;32m     10\u001b[0m data[\u001b[38;5;124m'\u001b[39m\u001b[38;5;124mverb_count\u001b[39m\u001b[38;5;124m'\u001b[39m] \u001b[38;5;241m=\u001b[39m data[\u001b[38;5;124m'\u001b[39m\u001b[38;5;124mreview\u001b[39m\u001b[38;5;124m'\u001b[39m]\u001b[38;5;241m.\u001b[39mapply(\u001b[38;5;28;01mlambda\u001b[39;00m x: count_pos(x, \u001b[38;5;124m'\u001b[39m\u001b[38;5;124mVB\u001b[39m\u001b[38;5;124m'\u001b[39m))\n\u001b[1;32m     11\u001b[0m data[\u001b[38;5;124m'\u001b[39m\u001b[38;5;124madj_count\u001b[39m\u001b[38;5;124m'\u001b[39m] \u001b[38;5;241m=\u001b[39m data[\u001b[38;5;124m'\u001b[39m\u001b[38;5;124mreview\u001b[39m\u001b[38;5;124m'\u001b[39m]\u001b[38;5;241m.\u001b[39mapply(\u001b[38;5;28;01mlambda\u001b[39;00m x: count_pos(x, \u001b[38;5;124m'\u001b[39m\u001b[38;5;124mJJ\u001b[39m\u001b[38;5;124m'\u001b[39m))\n",
      "\u001b[0;31mNameError\u001b[0m: name 'data' is not defined"
     ]
    }
   ],
   "source": []
  },
  {
   "cell_type": "code",
   "execution_count": null,
   "metadata": {},
   "outputs": [],
   "source": []
  }
 ],
 "metadata": {
  "kernelspec": {
   "display_name": "venv",
   "language": "python",
   "name": "python3"
  },
  "language_info": {
   "codemirror_mode": {
    "name": "ipython",
    "version": 3
   },
   "file_extension": ".py",
   "mimetype": "text/x-python",
   "name": "python",
   "nbconvert_exporter": "python",
   "pygments_lexer": "ipython3",
   "version": "3.10.16"
  }
 },
 "nbformat": 4,
 "nbformat_minor": 2
}
